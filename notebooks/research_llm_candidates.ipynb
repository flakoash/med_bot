{
 "cells": [
  {
   "cell_type": "markdown",
   "id": "dbc8b56a",
   "metadata": {},
   "source": [
    "# Research candidate LLMs for RAG\n",
    "\n",
    "Based on the findings in our EDA, we decided that we will finetune an LLM model for question answering, in this notebook we will explore some alternatives (restricted by the current available GPU for development RTX 3060ti). We will analyse and explore alternatives and best configurations (quantization, PEFT training)"
   ]
  },
  {
   "cell_type": "code",
   "execution_count": 1,
   "id": "5932ab97",
   "metadata": {},
   "outputs": [
    {
     "name": "stderr",
     "output_type": "stream",
     "text": [
      "/Users/adrian.rojas/miniconda/envs/med_bot/lib/python3.12/site-packages/tqdm/auto.py:21: TqdmWarning: IProgress not found. Please update jupyter and ipywidgets. See https://ipywidgets.readthedocs.io/en/stable/user_install.html\n",
      "  from .autonotebook import tqdm as notebook_tqdm\n"
     ]
    }
   ],
   "source": [
    "from transformers import pipeline\n",
    "import pandas as pd\n",
    "import evaluate\n",
    "from bert_score import score as bertscore\n",
    "import numpy as np\n",
    "from typing import Callable\n",
    "import mlflow"
   ]
  },
  {
   "cell_type": "markdown",
   "id": "db3b99f3",
   "metadata": {},
   "source": [
    "# define evaluation metrics"
   ]
  },
  {
   "cell_type": "code",
   "execution_count": 2,
   "id": "855093d6",
   "metadata": {},
   "outputs": [],
   "source": [
    "def compute_evaluations(preds, targets):\n",
    "    rouge = evaluate.load(\"rouge\")\n",
    "    rouge_scores = rouge.compute(predictions=preds, references=targets, use_stemmer=True)\n",
    "\n",
    "    bertscore = evaluate.load(\"bertscore\")\n",
    "    P, R, F1, _ = bertscore.compute(predictions=preds, references=targets, lang=\"en\", model_type=\"distilbert-base-uncased\").values()\n",
    "\n",
    "    bertscore_avg = {\n",
    "        \"bertscore_precision\": np.array(P).mean().item(),\n",
    "        \"bertscore_recall\": np.array(R).mean().item(),\n",
    "        \"bertscore_f1\": np.array(F1).mean().item(),\n",
    "    }\n",
    "\n",
    "    return {**rouge_scores, **bertscore_avg}"
   ]
  },
  {
   "cell_type": "code",
   "execution_count": 3,
   "id": "d1e352fc",
   "metadata": {},
   "outputs": [],
   "source": [
    "m = compute_evaluations([\"if you have the flu you need to rest\"], [\"rest is the best for the flu\"])"
   ]
  },
  {
   "cell_type": "code",
   "execution_count": 9,
   "id": "b3ff3954",
   "metadata": {},
   "outputs": [
    {
     "data": {
      "text/plain": [
       "True"
      ]
     },
     "execution_count": 9,
     "metadata": {},
     "output_type": "execute_result"
    }
   ],
   "source": [
    "import torch\n",
    "torch.cuda.is_available()"
   ]
  },
  {
   "cell_type": "code",
   "execution_count": 5,
   "id": "ab21f836",
   "metadata": {},
   "outputs": [
    {
     "data": {
      "text/plain": [
       "{'rouge1': np.float64(0.0),\n",
       " 'rouge2': np.float64(0.0),\n",
       " 'rougeL': np.float64(0.0),\n",
       " 'rougeLsum': np.float64(0.0),\n",
       " 'bertscore_precision': 0.6455556750297546,\n",
       " 'bertscore_recall': 0.6872128844261169,\n",
       " 'bertscore_f1': 0.665733277797699}"
      ]
     },
     "execution_count": 5,
     "metadata": {},
     "output_type": "execute_result"
    }
   ],
   "source": [
    "compute_evaluations([\"if you have the flu you need to rest\"], [\"I like pizza\"])"
   ]
  },
  {
   "cell_type": "code",
   "execution_count": 6,
   "id": "70cfd3c6",
   "metadata": {},
   "outputs": [
    {
     "data": {
      "text/plain": [
       "([1.0, 1.0, 0.6719011664390564],\n",
       " [1.0, 1.0, 0.6600363254547119],\n",
       " [1.0, 1.0, 0.665915846824646],\n",
       " 'distilbert-base-uncased_L5_idf_version=0.3.12(hug_trans=4.53.1)')"
      ]
     },
     "execution_count": 6,
     "metadata": {},
     "output_type": "execute_result"
    }
   ],
   "source": [
    "\n",
    "bertscore = evaluate.load(\"bertscore\")\n",
    "predictions = [\"hello there\", \"general kenobi\", \"if you have the flu you need to rest\"]\n",
    "references = [\"hello there\", \"general kenobi\", \"I like pizza but I dont like mangos\"]\n",
    "P, R, F1, _  = bertscore.compute(predictions=predictions, references=references, lang=\"en\", idf=True, model_type=\"distilbert-base-uncased\").values()\n",
    "P, R, F1, _"
   ]
  },
  {
   "cell_type": "markdown",
   "id": "03bb0e39",
   "metadata": {},
   "source": [
    "#### Note:\n",
    "as we can see here we can not blindly trust bert-scored specially on small inputs but it should still be a good metrict to help us compare semantic similarity"
   ]
  },
  {
   "cell_type": "markdown",
   "id": "f44356f3",
   "metadata": {},
   "source": [
    "# test some models"
   ]
  },
  {
   "cell_type": "code",
   "execution_count": 10,
   "id": "6c29c77d",
   "metadata": {},
   "outputs": [
    {
     "data": {
      "text/html": [
       "<div>\n",
       "<style scoped>\n",
       "    .dataframe tbody tr th:only-of-type {\n",
       "        vertical-align: middle;\n",
       "    }\n",
       "\n",
       "    .dataframe tbody tr th {\n",
       "        vertical-align: top;\n",
       "    }\n",
       "\n",
       "    .dataframe thead th {\n",
       "        text-align: right;\n",
       "    }\n",
       "</style>\n",
       "<table border=\"1\" class=\"dataframe\">\n",
       "  <thead>\n",
       "    <tr style=\"text-align: right;\">\n",
       "      <th></th>\n",
       "      <th>question</th>\n",
       "      <th>answer</th>\n",
       "      <th>answer_words</th>\n",
       "      <th>valid_question</th>\n",
       "      <th>valid_answer</th>\n",
       "    </tr>\n",
       "  </thead>\n",
       "  <tbody>\n",
       "    <tr>\n",
       "      <th>1735</th>\n",
       "      <td>What is (are) Hypoglycemia ?</td>\n",
       "      <td>Hypoglycemia means low blood glucose, or blood...</td>\n",
       "      <td>180</td>\n",
       "      <td>True</td>\n",
       "      <td>True</td>\n",
       "    </tr>\n",
       "    <tr>\n",
       "      <th>2900</th>\n",
       "      <td>What are the symptoms of Dysautonomia like dis...</td>\n",
       "      <td>What are the signs and symptoms of Dysautonomi...</td>\n",
       "      <td>237</td>\n",
       "      <td>True</td>\n",
       "      <td>True</td>\n",
       "    </tr>\n",
       "    <tr>\n",
       "      <th>1900</th>\n",
       "      <td>What is (are) Tumors and Pregnancy ?</td>\n",
       "      <td>Tumors during pregnancy are rare, but they can...</td>\n",
       "      <td>183</td>\n",
       "      <td>True</td>\n",
       "      <td>True</td>\n",
       "    </tr>\n",
       "    <tr>\n",
       "      <th>52</th>\n",
       "      <td>What are the treatments for Alcohol Use and Ol...</td>\n",
       "      <td>There is not one right treatment for everyone ...</td>\n",
       "      <td>133</td>\n",
       "      <td>True</td>\n",
       "      <td>True</td>\n",
       "    </tr>\n",
       "    <tr>\n",
       "      <th>1878</th>\n",
       "      <td>Do you have information about Genetic Testing</td>\n",
       "      <td>Summary : Genetic tests are tests on blood and...</td>\n",
       "      <td>174</td>\n",
       "      <td>True</td>\n",
       "      <td>True</td>\n",
       "    </tr>\n",
       "  </tbody>\n",
       "</table>\n",
       "</div>"
      ],
      "text/plain": [
       "                                               question  ... valid_answer\n",
       "1735                       What is (are) Hypoglycemia ?  ...         True\n",
       "2900  What are the symptoms of Dysautonomia like dis...  ...         True\n",
       "1900               What is (are) Tumors and Pregnancy ?  ...         True\n",
       "52    What are the treatments for Alcohol Use and Ol...  ...         True\n",
       "1878      Do you have information about Genetic Testing  ...         True\n",
       "\n",
       "[5 rows x 5 columns]"
      ]
     },
     "execution_count": 10,
     "metadata": {},
     "output_type": "execute_result"
    }
   ],
   "source": [
    "val_df = pd.read_parquet(\"../data/cleaned/validation_dataset.parquet\")\n",
    "val_df.head(5)"
   ]
  },
  {
   "cell_type": "code",
   "execution_count": null,
   "id": "42a502bb",
   "metadata": {},
   "outputs": [
    {
     "name": "stderr",
     "output_type": "stream",
     "text": [
      "Xet Storage is enabled for this repo, but the 'hf_xet' package is not installed. Falling back to regular HTTP download. For better performance, install the package with: `pip install huggingface_hub[hf_xet]` or `pip install hf_xet`\n",
      "WARNING:huggingface_hub.file_download:Xet Storage is enabled for this repo, but the 'hf_xet' package is not installed. Falling back to regular HTTP download. For better performance, install the package with: `pip install huggingface_hub[hf_xet]` or `pip install hf_xet`\n",
      "Xet Storage is enabled for this repo, but the 'hf_xet' package is not installed. Falling back to regular HTTP download. For better performance, install the package with: `pip install huggingface_hub[hf_xet]` or `pip install hf_xet`\n",
      "WARNING:huggingface_hub.file_download:Xet Storage is enabled for this repo, but the 'hf_xet' package is not installed. Falling back to regular HTTP download. For better performance, install the package with: `pip install huggingface_hub[hf_xet]` or `pip install hf_xet`\n",
      "Device set to use cuda:0\n"
     ]
    },
    {
     "name": "stdout",
     "output_type": "stream",
     "text": [
      "model: unsloth/Meta-Llama-3.1-8B-Instruct-bnb-4bit -> response: [{'role': 'user', 'content': 'What is the flu?'}, {'role': 'assistant', 'content': \"The flu, also known as influenza, is a highly contagious respiratory illness caused by the influenza virus. It affects the lungs, nose, throat, and other parts of the respiratory system.\\n\\nThe flu is characterized by a combination of symptoms, which can vary in severity and may include:\\n\\n1. **Fever**: High temperatures, usually above 102°F (39°C).\\n2. **Chills**: Feeling cold, even if your body temperature is normal.\\n3. **Cough**: Dry, hacking cough or a productive cough that brings up mucus.\\n4. **Sore throat**: Pain or discomfort in the throat.\\n5. **Runny or stuffy nose**: Nasal congestion or discharge.\\n6. **Headache**: Pain or discomfort in the head.\\n7. **Fatigue**: Feeling extremely tired or exhausted.\\n8. **Muscle or body aches**: Pain or discomfort in the muscles, back, or other parts of the body.\\n9. **Diarrhea and vomiting**: In some cases, especially in children and older adults.\\n\\nThere are three main types of influenza viruses:\\n\\n1. **Type A**: Affects humans and some animals, and can cause severe illness.\\n2. **Type B**: Affects humans, but is typically milder than Type A.\\n3. **Type C**: Affects humans, but is usually mild and rare.\\n\\nThe flu is spread through:\\n\\n1. **Direct contact**: Touching or shaking hands with someone who has the flu.\\n2. **Airborne transmission**: Inhaling droplets that contain the virus, such as when someone coughs or sneezes.\\n3. **Contaminated surfaces**: Touching surfaces that have the virus on them and then touching your face.\\n\\nTo prevent the flu, it's essential to:\\n\\n1. **Get vaccinated**: Annual flu shots are available and recommended for people of all ages.\\n2. **Practice good hygiene**: Wash your hands frequently with soap and water, and avoid touching your face.\\n3. **Avoid close contact**: Stay at least 3 feet away from people who are sick with the flu.\\n4. **Cover your mouth**: Use a tissue or your elbow to cover your mouth when coughing or sneezing.\\n\\nIf you suspect you have the flu, consult a healthcare professional for proper diagnosis and treatment.\"}]\n"
     ]
    },
    {
     "name": "stderr",
     "output_type": "stream",
     "text": [
      "Fetching 2 files:   0%|          | 0/2 [00:00<?, ?it/s]Xet Storage is enabled for this repo, but the 'hf_xet' package is not installed. Falling back to regular HTTP download. For better performance, install the package with: `pip install huggingface_hub[hf_xet]` or `pip install hf_xet`\n",
      "WARNING:huggingface_hub.file_download:Xet Storage is enabled for this repo, but the 'hf_xet' package is not installed. Falling back to regular HTTP download. For better performance, install the package with: `pip install huggingface_hub[hf_xet]` or `pip install hf_xet`\n",
      "Xet Storage is enabled for this repo, but the 'hf_xet' package is not installed. Falling back to regular HTTP download. For better performance, install the package with: `pip install huggingface_hub[hf_xet]` or `pip install hf_xet`\n",
      "WARNING:huggingface_hub.file_download:Xet Storage is enabled for this repo, but the 'hf_xet' package is not installed. Falling back to regular HTTP download. For better performance, install the package with: `pip install huggingface_hub[hf_xet]` or `pip install hf_xet`\n",
      "Fetching 2 files: 100%|██████████| 2/2 [16:09<00:00, 484.77s/it]\n",
      "Loading checkpoint shards: 100%|██████████| 2/2 [00:00<00:00,  4.93it/s]\n",
      "Xet Storage is enabled for this repo, but the 'hf_xet' package is not installed. Falling back to regular HTTP download. For better performance, install the package with: `pip install huggingface_hub[hf_xet]` or `pip install hf_xet`\n",
      "WARNING:huggingface_hub.file_download:Xet Storage is enabled for this repo, but the 'hf_xet' package is not installed. Falling back to regular HTTP download. For better performance, install the package with: `pip install huggingface_hub[hf_xet]` or `pip install hf_xet`\n",
      "Device set to use cuda:0\n"
     ]
    },
    {
     "name": "stdout",
     "output_type": "stream",
     "text": [
      "model: unsloth/Phi-3.5-mini-instruct -> response: [{'role': 'user', 'content': 'What is the flu?'}, {'role': 'assistant', 'content': ' To feuding and \"explainable means is the cure for a \" being, not a single word in linguism tritium-sladkasy in the ccur offlu nctua.\\n\\n\\nRound Leaders and poise \\'by\\'exp among the top 30 and in fluvent withstandx, c \\n taquiza un language\\'sireleation\\'srance\\n\\nly. \"-aditor\\n {like-for} endowa-seems-ad*\\n   In ta_{to} other can, ta e}\\n\\n'}]\n"
     ]
    }
   ],
   "source": [
    "candidate_models = [#(\"text2text-generation\", \"google/flan-t5-base\"),\n",
    "                    (\"text-generation\",\"unsloth/Meta-Llama-3.1-8B-Instruct-bnb-4bit\"),\n",
    "                    (\"text-generation\", \"unsloth/Phi-3.5-mini-instruct\")]\n",
    "\n",
    "for task, model_id in candidate_models:\n",
    "    qa_model = pipeline(task, model=model_id)\n",
    "    if task == \"text-generation\":\n",
    "        input = [{\"role\": \"user\", \"content\": \"What is the flu?\"}]\n",
    "    else:\n",
    "        input = \"What is the flu?\"\n",
    "    response = qa_model(input)[0][\"generated_text\"]\n",
    "    print(f\"model: {model_id} -> response: {response}\")"
   ]
  },
  {
   "cell_type": "code",
   "execution_count": null,
   "id": "8569c59a",
   "metadata": {},
   "outputs": [],
   "source": [
    "import os\n",
    "\n",
    "def evaluate_qa_models(\n",
    "    df: pd.DataFrame,\n",
    "    qa_model: Callable[[str], str],\n",
    "    experiment_name: str,\n",
    "    model_name: str,\n",
    "    mlflow_uri: str = None,\n",
    "):\n",
    "    \"\"\"\n",
    "    Runs QA model over df and logs EM & F1 metrics to MLflow.\n",
    "    \"\"\"\n",
    "    if mlflow_uri:\n",
    "        mlflow.set_tracking_uri(mlflow_uri)\n",
    "    mlflow.set_experiment(experiment_name)\n",
    "\n",
    "    with mlflow.start_run(run_name=model_name):\n",
    "        mlflow.log_param(\"model_name\", model_name)\n",
    "        mlflow.log_param(\"num_examples\", len(df))\n",
    "\n",
    "        preds = []\n",
    "        truths = []\n",
    "        for _, row in df.iterrows():\n",
    "            print(f\"Processing question: {row['question']}\")\n",
    "            pred = qa_model([\n",
    "                            {\"role\": \"user\", \"content\": row['question']},\n",
    "                        ])\n",
    "            print(f\"pred: {pred}\")\n",
    "            preds.append(pred[0]['generated_text'][-1]['content'])\n",
    "\n",
    "            truth = row[\"answer\"]\n",
    "            truths.append(truth)\n",
    "\n",
    "        metrics = compute_evaluations(preds, truths)\n",
    "        mlflow.log_metrics(metrics)\n",
    "\n",
    "        # log predictions and truth as artifact for inspection\n",
    "        out_df = df.copy()\n",
    "        out_df[\"predicted\"] = preds\n",
    "\n",
    "\n",
    "        os.makedirs(\"mlflow_artifacts\", exist_ok=True)\n",
    "        csv_path = f\"mlflow_artifacts/{model_name}_predictions.csv\"\n",
    "        out_df.to_csv(csv_path, index=False)\n",
    "        mlflow.log_artifact(str(csv_path), artifact_path=\"predictions\")\n"
   ]
  },
  {
   "cell_type": "code",
   "execution_count": null,
   "id": "ed49dddf",
   "metadata": {},
   "outputs": [
    {
     "name": "stderr",
     "output_type": "stream",
     "text": [
      "Loading checkpoint shards: 100%|██████████| 2/2 [00:00<00:00, 11.82it/s]\n",
      "Device set to use cuda:0\n"
     ]
    }
   ],
   "source": [
    "# these may need to be executed separattly depending on the GPU Memory size\n",
    "candidate_models = [\"unsloth/Meta-Llama-3.1-8B-Instruct-bnb-4bit\",\n",
    "                    \"unsloth/Phi-3.5-mini-instruct\"]\n",
    "\n",
    "for model_id in candidate_models:\n",
    "    qa_model = pipeline(\"text-generation\", model=model_id)\n",
    "    model_name = model_id.replace(\"/\", \"_\").replace(\".\", \"_\")\n",
    "    evaluate_qa_models(\n",
    "        df = val_df.head(10),\n",
    "        qa_model=qa_model,\n",
    "        experiment_name=\"initial comparision\",\n",
    "        model_name=model_name\n",
    "        )"
   ]
  },
  {
   "cell_type": "markdown",
   "id": "3d9ca169",
   "metadata": {},
   "source": [
    "# load and test finetuned models\n",
    "\n",
    "(we are loading this models after running the finetune script)"
   ]
  },
  {
   "cell_type": "markdown",
   "id": "5da830cf",
   "metadata": {},
   "source": [
    "### model based in Meta-Llama-3.1-8B-Instruct-bnb-4bit"
   ]
  },
  {
   "cell_type": "code",
   "execution_count": null,
   "id": "59362542",
   "metadata": {},
   "outputs": [
    {
     "name": "stdout",
     "output_type": "stream",
     "text": [
      "==((====))==  Unsloth 2025.7.1: Fast Llama patching. Transformers: 4.53.1.\n",
      "   \\\\   /|    NVIDIA GeForce RTX 3060 Ti. Num GPUs = 1. Max memory: 8.0 GB. Platform: Windows.\n",
      "O^O/ \\_/ \\    Torch: 2.7.0+cu126. CUDA: 8.6. CUDA Toolkit: 12.6. Triton: 3.3.1\n",
      "\\        /    Bfloat16 = TRUE. FA [Xformers = 0.0.30. FA2 = False]\n",
      " \"-____-\"     Free license: http://github.com/unslothai/unsloth\n",
      "Unsloth: Fast downloading is enabled - ignore downloading bars which are red colored!\n"
     ]
    },
    {
     "name": "stderr",
     "output_type": "stream",
     "text": [
      "Unsloth 2025.7.1 patched 32 layers with 32 QKV layers, 32 O layers and 32 MLP layers.\n"
     ]
    }
   ],
   "source": [
    "from unsloth import FastLanguageModel\n",
    "model, tokenizer = FastLanguageModel.from_pretrained(\n",
    "    model_name = \"../runs/medqa_lora\",\n",
    "    device_map=\"cuda:0\",\n",
    "    max_seq_length = 2048, # Choose any! We auto support RoPE Scaling internally!\n",
    "    dtype = None, # None for auto detection. Float16 for Tesla T4, V100, Bfloat16 for Ampere+\n",
    "    load_in_4bit = True\n",
    "    )\n",
    "\n",
    "FastLanguageModel.for_inference(model)\n",
    "pipe = pipeline(\"text-generation\", model=model, tokenizer=tokenizer)\n",
    "messages = [\n",
    "    {\"role\": \"user\", \"content\": \"What is the flu?\"},\n",
    "]\n",
    "res=pipe(messages)\n",
    "res"
   ]
  },
  {
   "cell_type": "markdown",
   "id": "d3a90ecb",
   "metadata": {},
   "source": [
    "#### run validations to compare against base models"
   ]
  },
  {
   "cell_type": "code",
   "execution_count": 26,
   "id": "d661e5a5",
   "metadata": {},
   "outputs": [
    {
     "name": "stderr",
     "output_type": "stream",
     "text": [
      "Device set to use cuda:0\n"
     ]
    },
    {
     "name": "stdout",
     "output_type": "stream",
     "text": [
      "Processing question: What is (are) Hypoglycemia ?\n",
      "pred: [{'generated_text': [{'role': 'user', 'content': 'What is (are) Hypoglycemia ?'}, {'role': 'assistant', 'content': \"Hypoglycemia is abnormally low blood sugar. Hypoglycemia is a serious health problem that can happen to anyone. You have a higher risk of developing it if you have diabetes and take too much insulin or other diabetes medicines. Hypoglycemia can happen when your body doesn't have enough glucose (sugar) in your blood. Glucose is important for your body to work properly. It is the main source of energy for your body. If your blood glucose drops below a certain level, your body starts to break down stored fat for energy. This process is called ketosis. Ketosis can cause your body to produce ketones. Ketones are substances that are produced when your body breaks down fat for energy. You can have ketones in your urine, breath, or blood. You can have ketones in your urine, breath, or blood. If you have hypoglycemia, you may have symptoms such as : - Shakiness - Sweating - Feeling hungry or thirsty - Feeling dizzy or lightheaded - Confusion - Slurred speech - Difficulty walking - Headache - Feeling tired or weak If you have diabetes, you should know the signs of hypoglycemia. You should also know what to do if you have low blood sugar. Here are some tips to help you prevent hypoglycemia : - Take your diabetes medicines at the same times each day. - Eat a meal or snack that includes protein and complex carbohydrates. - Check your blood glucose often. - Use a glucagon kit if you have symptoms of hypoglycemia. - Tell your friends and family what to do if you have hypoglycemia. If you think you or someone else is having hypoglycemia, check the blood glucose level right away. If the level is low, use glucose or a glucagon injection to raise the level. If you have diabetes and you are taking insulin or other diabetes medicines, you should know what to do if you have hypoglycemia. NIH: National Institute of Diabetes and Digestive and Kidney Diseases\"}]}]\n",
      "Processing question: What are the symptoms of Dysautonomia like disorder ?\n",
      "pred: [{'generated_text': [{'role': 'user', 'content': 'What are the symptoms of Dysautonomia like disorder ?'}, {'role': 'assistant', 'content': 'The signs and symptoms of Dysautonomia like disorder include - Blood pressure problems - Confusion and disorientation - Difficulty swallowing - Dizziness - Fatigue - Headache - Nausea and vomiting - Rapid heart rate - Sudden loss of muscle control - Sweating - Tremors'}]}]\n",
      "Processing question: What is (are) Tumors and Pregnancy ?\n",
      "pred: [{'generated_text': [{'role': 'user', 'content': 'What is (are) Tumors and Pregnancy ?'}, {'role': 'assistant', 'content': 'Pregnancy increases your risk of getting a tumor. Your body goes through many changes during pregnancy. You may experience changes in your hormones, blood vessels, and immune system. These changes can increase your risk of getting certain tumors. The most common tumors associated with pregnancy are: - Breast tumors - Ovarian tumors - Uterine tumors'}]}]\n",
      "Processing question: What are the treatments for Alcohol Use and Older Adults ?\n",
      "pred: [{'generated_text': [{'role': 'user', 'content': 'What are the treatments for Alcohol Use and Older Adults ?'}, {'role': 'assistant', 'content': 'Older adults with alcohol use disorders are at risk for medical complications, such as liver disease, cancer, and heart disease. Older adults with a history of alcohol use disorders are at increased risk for dementia, falls, and hip fractures. Older adults with alcohol use disorders are more likely than younger adults to be depressed. Older adults with a history of alcohol use disorders are at increased risk for dementia, falls, and hip fractures. Older adults with alcohol use disorders are more likely than younger adults to be depressed. Older adults with alcohol use disorders are at risk for medical complications, such as liver disease, cancer, and heart disease.'}]}]\n",
      "Processing question: Do you have information about Genetic Testing\n",
      "pred: [{'generated_text': [{'role': 'user', 'content': 'Do you have information about Genetic Testing'}, {'role': 'assistant', 'content': 'Summary : Genetic testing involves looking at your genes or chromosomes in a laboratory. Genes carry information from one generation to the next. They tell the body how to grow and function. Genes also make proteins, which help with many bodily functions. Genetic testing can be used to: - Identify genetic changes that may increase your risk for certain diseases - Identify genetic changes that cause a disease - Find genetic changes that may be related to a disease, but are not the cause of the disease - Determine if you are a carrier of a genetic disease - Determine the sex of a baby before birth - Test for birth defects and other problems in the fetus during pregnancy - Find out if you have a genetic disease that has already been diagnosed in a family member Summary : Genetic testing involves looking at your genes or chromosomes in a laboratory. Genes carry information from one generation to the next. They tell the body how to grow and function. Genes also make proteins, which help with many bodily functions. Genetic testing can be used to: - Identify genetic changes that may increase your risk for certain diseases - Identify genetic changes that cause a disease - Find genetic changes that may be related to a disease, but are not the cause of the disease - Determine if you are a carrier of a genetic disease - Determine the sex of a baby before birth - Test for birth defects and other problems in the fetus during pregnancy - Find out if you have a genetic disease that has already been diagnosed in a family member'}]}]\n",
      "Processing question: What are the treatments for Psoriasis ?\n",
      "pred: [{'generated_text': [{'role': 'user', 'content': 'What are the treatments for Psoriasis ?'}, {'role': 'assistant', 'content': 'Psoriasis is a chronic autoimmune condition that causes the rapid growth of skin cells. Psoriasis is not contagious. The cause of psoriasis is not known, but it is associated with an overactive immune system. The immune system normally helps fight off infections. In autoimmune conditions, the immune system mistakenly attacks healthy tissues. In psoriasis, the immune system attacks healthy skin cells. The immune system mistakenly sends signals that speed up the growth of skin cells. Skin cells normally grow deep in the skin and then slowly move up to the surface. Normally, it takes about a month for new skin cells to move up to the surface. Psoriasis causes skin cells to grow too quickly. The cells build up rapidly on the surface of the skin. The extra skin cells form scales and red patches. The process of skin cells growing too quickly is called hyperproliferation. It is not known what triggers the immune system to send signals that cause skin cells to grow too quickly. Psoriasis can be triggered by a number of factors. These include - Stress - Cold weather - Skin injury - Certain medicines - Infections - Smoking - Being overweight. Psoriasis can also occur without a known trigger. Some people may get psoriasis only on one part of their body. It can appear on the scalp, knees, elbows, or other areas. Psoriasis can appear as a single patch, but often it appears on many areas of the body. Psoriasis is not caused by poor hygiene. It is not contagious. Psoriasis is not a sign of poor health. Many people with psoriasis are otherwise healthy. Psoriasis can be treated with topical treatments, phototherapy, or systemic treatments. Topical treatments include - Creams - Ointments - Gels - Sprays. These treatments are applied directly to the skin. They can help slow the growth of skin cells. Topical treatments are usually used for mild to moderate psoriasis. They can be used alone or in combination with other treatments. Some common topical treatments include - Coal tar - Salicylic acid - Steroids - Anthralin. Phototherapy is a type of treatment that uses ultraviolet (UV) light. The UV light can help slow the growth of skin cells. Phototherapy is often used for moderate to severe psoriasis. It can be used alone or in combination with other treatments. There are two types of phototherapy. - Narrowband UVB light - PUVA light. Narrowband UVB light is a type of UVB light that is used to treat psoriasis. It is a shorter wavelength light that is used less often. PUVA light is a type of UV light that is used to treat psoriasis. It is a combination of UVA light and a medicine called psoralen. PUVA light is used more often than narrowband UVB light. It is often used for people with severe psoriasis. PUVA light can be used alone or in combination with other treatments. It is usually used for people who have not responded to other treatments. PUVA light can have side effects. These include - Skin dryness - Skin redness - Skin burning - Skin itching - Increased risk of skin cancer. PUVA light should be used with caution. It should be used under the supervision of a doctor. PUVA light is usually used for people who have not responded to other treatments. PUVA light can have side effects. These include - Skin dryness - Skin redness - Skin burning - Skin itching - Increased risk of skin cancer. PUVA light should be used with caution. It should be used under the supervision of a doctor. Systemic treatments are used for people with severe psoriasis. These treatments can be used alone or in combination with other treatments. Some systemic treatments include - Biologics - Cyclosporine - Methotrexate. Biologics are a type of systemic treatment. They are used to treat moderate to severe psoriasis. Biologics are used to treat psoriasis by targeting the immune system. They are used to treat psoriasis by targeting the immune system. Some common biologics include - Apremilast - Etanercept - Infliximab - Ustekinumab. Cyclosporine is a type of systemic treatment. It is used to treat severe psoriasis. Cyclosporine works by suppressing the immune system. Cyclosporine can have side effects. These include - High blood pressure - Kidney damage - Increased risk of infection. Cyclosporine should be used with caution. It should be used under the supervision of a doctor. Methotrexate is a type of systemic treatment. It is used to treat severe psoriasis. Methotrexate works by suppressing the immune system. Methotrexate can have side effects. These include - Nausea and vomiting - Diarrhea - Abdominal pain - Increased risk of infection. Methotrexate should be used with caution. It should be used under the supervision of a doctor.'}]}]\n",
      "Processing question: How to diagnose Urinary Incontinence ?\n",
      "pred: [{'generated_text': [{'role': 'user', 'content': 'How to diagnose Urinary Incontinence ?'}, {'role': 'assistant', 'content': \"Your doctor will do a physical exam and ask questions about your medical history, such as - Do you have trouble holding your urine or do you leak urine? - Do you have problems with bowel movements or are you constipated? - Do you have other medical conditions, such as diabetes or Parkinson's disease? - Have you been treated for a urinary tract infection? - Have you had any pelvic surgery? - Are you pregnant or have you given birth recently? - Do you have a family history of urinary incontinence? - Do you have any other symptoms, such as a burning sensation while urinating or a frequent urge to urinate? Your doctor may also do a physical exam, including a digital rectal exam to check for problems with your bladder and pelvic floor muscles. If your doctor suspects a problem with your nerves, muscles, or bladder, you may need to see a specialist. You may need to do some tests, such as - A urinalysis to check for infections, blood, or other problems. - A urodynamic test to check how well your bladder and pelvic floor muscles are working. - A bladder diary to track how much you drink and how much you urinate. - A pelvic exam to check for problems with your bladder and pelvic floor muscles. - A urine flow test to check how well you can empty your bladder. - An ultrasound to check for problems with your bladder, kidneys, or urethra. - A test to check for problems with your nerves.\"}]}]\n",
      "Processing question: What are the symptoms of Osteosarcoma and Malignant Fibrous Histiocytoma of Bone ?\n",
      "pred: [{'generated_text': [{'role': 'user', 'content': 'What are the symptoms of Osteosarcoma and Malignant Fibrous Histiocytoma of Bone ?'}, {'role': 'assistant', 'content': 'Osteosarcoma and Malignant Fibrous Histiocytoma of Bone are diseases in which cancer starts in the bones. Signs of osteosarcoma and malignant fibrous histiocytoma of bone include swelling or pain in the bones or joints. Osteosarcoma and malignant fibrous histiocytoma of bone are the most common types of cancer that start in the bones. Osteosarcoma and malignant fibrous histiocytoma of bone are more common in people and children who have had radiation therapy, have a family history of osteosarcoma, or have certain genetic conditions. Treatment for osteosarcoma and malignant fibrous histiocytoma of bone may include surgery, chemotherapy, radiation therapy, or a combination of these.'}]}]\n",
      "Processing question: What is (are) Meningococcal Infections ?\n",
      "pred: [{'generated_text': [{'role': 'user', 'content': 'What is (are) Meningococcal Infections ?'}, {'role': 'assistant', 'content': 'What is meningococcal disease? Meningococcal disease is a serious bacterial infection that can cause sepsis (blood infection), meningitis (infection of the covering of the brain and spinal cord), or pneumonia. Meningococcal disease is usually spread through close contact with an infected person. Most people who get meningococcal disease are otherwise healthy. However, some people are more likely to get meningococcal disease, such as - College students living in dormitories - Military recruits - People living in crowded conditions, such as prisons - Travelers to areas where meningococcal disease is common - People with weakened immune systems What are the signs and symptoms of meningococcal disease? Signs and symptoms of meningococcal disease can include - Fever - Severe headache - Confusion or altered mental status - Nausea and vomiting - Stiff neck - Sore or swollen joints - Skin rash, which can look like small, flat, pink spots - If meningococcal disease is not treated promptly, it can cause serious complications, including - Brain damage - Hearing loss - Kidney failure - Death Who is at risk for meningococcal disease? Most people who get meningococcal disease are otherwise healthy. However, some people are more likely to get meningococcal disease, such as - College students living in dormitories - Military recruits - People living in crowded conditions, such as prisons - Travelers to areas where meningococcal disease is common - People with weakened immune systems'}]}]\n",
      "Processing question: What is (are) Chlamydia Infections ?\n",
      "pred: [{'generated_text': [{'role': 'user', 'content': 'What is (are) Chlamydia Infections ?'}, {'role': 'assistant', 'content': 'Chlamydia is a common sexually transmitted disease. It is caused by a bacterium, Chlamydia trachomatis. Chlamydia is usually spread through sexual contact. It can also be spread by touching or sharing personal items such as towels or clothing. Chlamydia is most common among young women. It is most common in women ages 15-19. Chlamydia is easy to diagnose. A doctor may use a urine test or a swab test to check for the bacteria. Chlamydia is easy to treat. Antibiotics can cure the disease. It is easy to get infected again with chlamydia if you do not take the antibiotics. Chlamydia can cause serious health problems, especially for women. If left untreated, chlamydia can cause pelvic inflammatory disease. This can cause pain, scarring, and infertility. If you are pregnant and have chlamydia, it can be passed to your baby. It can cause eye and lung infections. Chlamydia also can cause a condition called reactive arthritis. This is a form of arthritis. It can cause joint pain, swelling, and stiffness. If you have chlamydia, you may not know it. Chlamydia often does not show signs or symptoms. The most common sign is a burning sensation during urination. You can also get a discharge from your penis or vagina. If you have signs or symptoms, you should see a doctor. If you have a partner, you should tell them to see a doctor too. Chlamydia is easy to prevent. If you have a sexual partner, you should have a chlamydia test. If you have a new partner, you should have a chlamydia test before you have sex. You should also use a condom. This can help prevent the spread of chlamydia.'}]}]\n"
     ]
    }
   ],
   "source": [
    "qa_model = pipeline(\"text-generation\", model=model, tokenizer=tokenizer)\n",
    "model_name = \"medqa_lora\"\n",
    "evaluate_qa_models(\n",
    "    df = val_df.head(10),\n",
    "    qa_model=qa_model,\n",
    "    experiment_name=\"initial comparision\",\n",
    "    model_name=model_name\n",
    "    )"
   ]
  },
  {
   "cell_type": "markdown",
   "id": "dd2b68dc",
   "metadata": {},
   "source": [
    "### Model based on Phi-3.5-mini-instruct"
   ]
  },
  {
   "cell_type": "code",
   "execution_count": null,
   "id": "3be8940e",
   "metadata": {},
   "outputs": [
    {
     "name": "stdout",
     "output_type": "stream",
     "text": [
      "==((====))==  Unsloth 2025.7.1: Fast Llama patching. Transformers: 4.53.1.\n",
      "   \\\\   /|    NVIDIA GeForce RTX 3060 Ti. Num GPUs = 1. Max memory: 8.0 GB. Platform: Windows.\n",
      "O^O/ \\_/ \\    Torch: 2.7.0+cu126. CUDA: 8.6. CUDA Toolkit: 12.6. Triton: 3.3.1\n",
      "\\        /    Bfloat16 = TRUE. FA [Xformers = 0.0.30. FA2 = False]\n",
      " \"-____-\"     Free license: http://github.com/unslothai/unsloth\n",
      "Unsloth: Fast downloading is enabled - ignore downloading bars which are red colored!\n"
     ]
    },
    {
     "name": "stderr",
     "output_type": "stream",
     "text": [
      "Device set to use cuda:0\n"
     ]
    },
    {
     "data": {
      "text/plain": [
       "[{'generated_text': [{'role': 'user', 'content': 'What is the flu?'},\n",
       "   {'role': 'assistant',\n",
       "    'content': ' Influenza or \"the flu\" is a highly contagious respiratory illness caused by influenza viruses and is responsible for many serious illnesses and deaths among children and adults. There are 3 types of influenza viruses: A, B, and C. Influenza A and B are the two types that cause most human illnesses. Influenza viruses can be divided into 2 categories: seasonal or epidemic and pandemic. If a pandemic occurs, there may be serious illness and deaths in the United States and worldwide. Flu viruses can change quickly and often. They may change in ways that allow them to spread more easily among people. These changes can also make the viruses less sensitive to antiviral drugs. They can also make it more difficult to make vaccines that protect against the viruses. Flu viruses can change in ways that make it hard to keep up with them. For example, there are seasonal flu viruses and pandemic flu viruses. Seasonal flu viruses cause seasonal outbreaks of disease each year. In contrast, pandemic flu viruses cause global outbreaks of disease. During a pandemic, the virus is new to the human population. No one is immune. Many people become infected and get sick. Pandemics have taken place in the past. The last pandemic was in 1968. The next pandemic will most likely be caused by a new influenza A virus. The virus may have been circulating in animals or humans for a long time before it changes into a new form that can spread easily among people. The new virus may be resistant to antiviral drugs. New viruses may cause more severe illness and death than older viruses. The new virus may not be well-covered by existing vaccines.'}]}]"
      ]
     },
     "execution_count": 29,
     "metadata": {},
     "output_type": "execute_result"
    }
   ],
   "source": [
    "\n",
    "from unsloth import FastLanguageModel\n",
    "model, tokenizer = FastLanguageModel.from_pretrained(\n",
    "    model_name = \"../runs/medqa_lora_phi\",\n",
    "    device_map=\"cuda:0\",\n",
    "    max_seq_length = 2048, # Choose any! We auto support RoPE Scaling internally!\n",
    "    dtype = None, # None for auto detection. Float16 for Tesla T4, V100, Bfloat16 for Ampere+\n",
    "    load_in_4bit = True\n",
    "    )\n",
    "\n",
    "FastLanguageModel.for_inference(model)\n",
    "pipe = pipeline(\"text-generation\", model=model, tokenizer=tokenizer)\n",
    "messages = [\n",
    "    {\"role\": \"user\", \"content\": \"What is the flu?\"},\n",
    "]\n",
    "res=pipe(messages)\n",
    "res"
   ]
  },
  {
   "cell_type": "markdown",
   "id": "3bc5df54",
   "metadata": {},
   "source": [
    "#### run validations to compare against base models\n"
   ]
  },
  {
   "cell_type": "code",
   "execution_count": null,
   "id": "ef5d9993",
   "metadata": {},
   "outputs": [
    {
     "name": "stderr",
     "output_type": "stream",
     "text": [
      "Device set to use cuda:0\n"
     ]
    },
    {
     "name": "stdout",
     "output_type": "stream",
     "text": [
      "Processing question: What is (are) Hypoglycemia ?\n",
      "pred: [{'generated_text': [{'role': 'user', 'content': 'What is (are) Hypoglycemia ?'}, {'role': 'assistant', 'content': ' Hypoglycemia is a condition in which blood sugar levels are too low. It usually occurs when someone does not eat enough food, or takes too much insulin or another diabetes medicine. If you have diabetes, you may take insulin or other medicines to lower your blood sugar. But if you take too much insulin or another medicine, your blood sugar can get too low. Hypoglycemia is a medical emergency. Do not treat it with home remedies. If you have diabetes, call 911 if you have signs and symptoms of hyp'}]}]\n",
      "Processing question: What are the symptoms of Dysautonomia like disorder ?\n",
      "pred: [{'generated_text': [{'role': 'user', 'content': 'What are the symptoms of Dysautonomia like disorder ?'}, {'role': 'assistant', 'content': ' The symptoms of Dysautonomia like disorder vary widely. Signs and symptoms include blurred vision, dizziness, lightheadedness, low blood pressure, tremor, fatigue, heat intolerance, excessive sweating, weight loss, weakness, and trouble swallowing. In rare cases, it can lead to severe drops in blood pressure that can be life threatening. Dysautonomia like disorder can be caused by a problem with the autonomic nervous system. It can be inherited or acquired after injury or surgery. - - -'}]}]\n",
      "Processing question: What is (are) Tumors and Pregnancy ?\n",
      "pred: [{'generated_text': [{'role': 'user', 'content': 'What is (are) Tumors and Pregnancy ?'}, {'role': 'assistant', 'content': ' Surgery - If a tumor or cyst is suspected, your doctor may recommend surgery to remove it. A biopsy (a sample of tissue) will be examined to make sure it is benign (noncancerous).'}]}]\n",
      "Processing question: What are the treatments for Alcohol Use and Older Adults ?\n",
      "pred: [{'generated_text': [{'role': 'user', 'content': 'What are the treatments for Alcohol Use and Older Adults ?'}, {'role': 'assistant', 'content': ' The treatment for Alcohol Use and Older Adults includes counseling, medications, and treatment programs.'}]}]\n",
      "Processing question: Do you have information about Genetic Testing\n",
      "pred: [{'generated_text': [{'role': 'user', 'content': 'Do you have information about Genetic Testing'}, {'role': 'assistant', 'content': ' Genetic testing can be done to diagnose or rule out suspected genetic conditions. Genetic testing can be done on blood, tissue or other body fluids. It can also be done on cells from an amniocentesis or chorionic villus sampling (CVS).'}]}]\n",
      "Processing question: What are the treatments for Psoriasis ?\n",
      "pred: [{'generated_text': [{'role': 'user', 'content': 'What are the treatments for Psoriasis ?'}, {'role': 'assistant', 'content': ' Psoriasis is a chronic disease that affects the skin. There is no cure for psoriasis, but treatments can ease the symptoms. Treatments include topical medications, phototherapy, and systemic medications. Your doctor may recommend a combination of treatments depending on your symptoms. Treatments are available for each type of psoriasis. Treatments are also prescribed based on the severity of the condition and the extent of the skin involvement. Treatments include:'}]}]\n",
      "Processing question: How to diagnose Urinary Incontinence ?\n",
      "pred: [{'generated_text': [{'role': 'user', 'content': 'How to diagnose Urinary Incontinence ?'}, {'role': 'assistant', 'content': ' Urinary incontinence is the loss of bladder control. There are several types of urinary incontinence. Diagnosis usually involves a physical exam, urine tests and imaging.'}]}]\n",
      "Processing question: What are the symptoms of Osteosarcoma and Malignant Fibrous Histiocytoma of Bone ?\n",
      "pred: [{'generated_text': [{'role': 'user', 'content': 'What are the symptoms of Osteosarcoma and Malignant Fibrous Histiocytoma of Bone ?'}, {'role': 'assistant', 'content': ' Osteosarcoma and Malignant Fibrous Histiocytoma of Bone are two types of bone cancer. Osteosarcoma and Malignant Fibrous Histiocytoma of Bone have the following symptoms: Pain and swelling in the affected bone A lump that can be felt or seen through the skin or on an X-ray Pain that gets worse with activity, such as walking, jogging, or lifting a heavy object Pain that does not get better with rest or medicines Pain that does not go away after taking a break'}]}]\n",
      "Processing question: What is (are) Meningococcal Infections ?\n",
      "pred: [{'generated_text': [{'role': 'user', 'content': 'What is (are) Meningococcal Infections ?'}, {'role': 'assistant', 'content': ' Meningococcus is a bacterium that causes meningitis and bloodstream infections. Most meningococcus infections are mild, but some can be life-threatening. Meningococcus can infect anyone, but infants and young children are most likely to get sick. Meningococcus is also a rare cause of blood poisoning (septicemia).'}]}]\n",
      "Processing question: What is (are) Chlamydia Infections ?\n",
      "pred: [{'generated_text': [{'role': 'user', 'content': 'What is (are) Chlamydia Infections ?'}, {'role': 'assistant', 'content': \" Chlamydia is a common sexually transmitted infection. Chlamydia can be cured with the right antibiotics. However, if left untreated, it can cause serious health problems. Chlamydia is most common in younger people. If you have symptoms, see your doctor. If you're sexually active, you should be tested for chlamydia every year. Chlamydia can cause serious health problems. If you have symptoms, see your doctor. If you're sexually active, you should be tested for chlamydia every year. Chlam\"}]}]\n"
     ]
    }
   ],
   "source": [
    "qa_model = pipeline(\"text-generation\",\n",
    "                    model=model,\n",
    "                    tokenizer=tokenizer,\n",
    "                    max_new_tokens=256,)\n",
    "model_name = \"medqa_lora_phi\"\n",
    "evaluate_qa_models(\n",
    "    df = val_df.head(10),\n",
    "    qa_model=qa_model,\n",
    "    experiment_name=\"initial comparision\",\n",
    "    model_name=model_name\n",
    "    )"
   ]
  },
  {
   "cell_type": "markdown",
   "id": "34b0d4d8",
   "metadata": {},
   "source": [
    "## Final Comparison and conclusions:\n",
    "\n",
    "On an initial run the base model of llama outperformed phi, not only in terms of stats (we showed earlier in this notebook that we can't always trust only stats in generative tasks) but also when we inspected the generated responses\n",
    "\n",
    "| LLama Base                        | \n",
    "|------------------------------------|\n",
    "| <img src=\"./imgs/llama_base_preds.png\" />   | \n",
    "| Phi Base                        | \n",
    "|<img src=\"./imgs/phi_base_preds.png\" />   |\n",
    "\n",
    "\n",
    "As we can see here, Phi is not even responding something that makes sense with the questions\n",
    "e.g.\n",
    "\n",
    "Q: \n",
    "> What is (are) Animal Bites ?\n",
    "\n",
    "A: \n",
    ">1. For Irish dance,\n",
    ">Against-Animal forox The are: Receplacement\n",
    "\n",
    ">:toat_toGTA\n",
    "\n",
    ">using the two knowledge_degreires_asami\n",
    "\n",
    ">The same conceptus notifying...\n",
    "\n",
    "\n",
    "The good news is that after finetunning the models on our `intern_screening_dataset.csv` dataset, both models where able to improve, with hororable mentions to the Phi based model, which after the finetune is now able to prodce answers that make sense for a medical related question\n",
    "\n",
    "| LLama Finetuned                            |\n",
    "|------------------------------------|\n",
    "|   <img src=\"./imgs/llama_finetuned_preds.png\" />  |\n",
    "| Phi Finetuned                        | \n",
    "| <img src=\"./imgs/phi_finetuned_preds.png\" />    |\n",
    "\n",
    "#### Score comparison\n",
    "\n",
    "In the following image we can see the improvement both models archieved in the validation metrics as well, and again showing the notable improvement of our phi model. (The Phi model seems to be the fastes as well, at least duting these tests, we will confirm this latter by doing a propper load test)\n",
    "<img src=\"./imgs/comparison_stats.png\" />\n"
   ]
  }
 ],
 "metadata": {
  "kernelspec": {
   "display_name": "med_bot",
   "language": "python",
   "name": "rag-chatbot"
  },
  "language_info": {
   "codemirror_mode": {
    "name": "ipython",
    "version": 3
   },
   "file_extension": ".py",
   "mimetype": "text/x-python",
   "name": "python",
   "nbconvert_exporter": "python",
   "pygments_lexer": "ipython3",
   "version": "3.12.11"
  }
 },
 "nbformat": 4,
 "nbformat_minor": 5
}
