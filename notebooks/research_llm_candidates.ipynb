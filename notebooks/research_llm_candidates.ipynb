{
 "cells": [
  {
   "cell_type": "markdown",
   "id": "dbc8b56a",
   "metadata": {},
   "source": [
    "# Research candidate LLMs for RAG\n",
    "\n",
    "Based on the findings in our EDA, we decided that we will finetune an LLM model for question answering, in this notebook we will explore some alternatives (restricted by the current available GPU for development RTX 3060ti). We will analyse and explore alternatives and best configurations (quantization, PEFT training)"
   ]
  },
  {
   "cell_type": "code",
   "execution_count": 1,
   "id": "5932ab97",
   "metadata": {},
   "outputs": [
    {
     "name": "stderr",
     "output_type": "stream",
     "text": [
      "c:\\Users\\Adrian\\miniconda3\\envs\\med_bot\\Lib\\site-packages\\tqdm\\auto.py:21: TqdmWarning: IProgress not found. Please update jupyter and ipywidgets. See https://ipywidgets.readthedocs.io/en/stable/user_install.html\n",
      "  from .autonotebook import tqdm as notebook_tqdm\n"
     ]
    }
   ],
   "source": [
    "from transformers import pipeline\n",
    "import pandas as pd\n",
    "import evaluate\n",
    "from bert_score import score as bertscore\n",
    "import numpy as np\n",
    "from typing import Callable\n",
    "import mlflow"
   ]
  },
  {
   "cell_type": "markdown",
   "id": "db3b99f3",
   "metadata": {},
   "source": [
    "# define evaluation metrics"
   ]
  },
  {
   "cell_type": "code",
   "execution_count": null,
   "id": "855093d6",
   "metadata": {},
   "outputs": [],
   "source": [
    "def compute_evaluations(preds, targets):\n",
    "    rouge = evaluate.load(\"rouge\")\n",
    "    rouge_scores = rouge.compute(predictions=preds, references=targets, use_stemmer=True)\n",
    "\n",
    "    bertscore = evaluate.load(\"bertscore\")\n",
    "    P, R, F1, _ = bertscore.compute(predictions=preds, references=targets, lang=\"en\", model_type=\"distilbert-base-uncased\").values()\n",
    "\n",
    "    bertscore_avg = {\n",
    "        \"bertscore_precision\": np.array(P).mean().item(),\n",
    "        \"bertscore_recall\": np.array(R).mean().item(),\n",
    "        \"bertscore_f1\": np.array(F1).mean().item(),\n",
    "    }\n",
    "\n",
    "    return {**rouge_scores, **bertscore_avg}"
   ]
  },
  {
   "cell_type": "code",
   "execution_count": 3,
   "id": "d1e352fc",
   "metadata": {},
   "outputs": [],
   "source": [
    "m = compute_evaluations([\"if you have the flu you need to rest\"], [\"rest is the best for the flu\"])"
   ]
  },
  {
   "cell_type": "code",
   "execution_count": 4,
   "id": "b3ff3954",
   "metadata": {},
   "outputs": [
    {
     "data": {
      "text/plain": [
       "True"
      ]
     },
     "execution_count": 4,
     "metadata": {},
     "output_type": "execute_result"
    }
   ],
   "source": [
    "import torch\n",
    "torch.cuda.is_available()"
   ]
  },
  {
   "cell_type": "code",
   "execution_count": 5,
   "id": "ab21f836",
   "metadata": {},
   "outputs": [
    {
     "data": {
      "text/plain": [
       "{'rouge1': np.float64(0.0),\n",
       " 'rouge2': np.float64(0.0),\n",
       " 'rougeL': np.float64(0.0),\n",
       " 'rougeLsum': np.float64(0.0),\n",
       " 'bertscore_precision': 0.6455556750297546,\n",
       " 'bertscore_recall': 0.6872128844261169,\n",
       " 'bertscore_f1': 0.665733277797699}"
      ]
     },
     "execution_count": 5,
     "metadata": {},
     "output_type": "execute_result"
    }
   ],
   "source": [
    "compute_evaluations([\"if you have the flu you need to rest\"], [\"I like pizza\"])"
   ]
  },
  {
   "cell_type": "code",
   "execution_count": null,
   "id": "70cfd3c6",
   "metadata": {},
   "outputs": [
    {
     "data": {
      "text/plain": [
       "([1.0, 1.0, 0.6719011664390564],\n",
       " [1.0, 1.0, 0.6600363254547119],\n",
       " [1.0, 1.0, 0.665915846824646],\n",
       " 'distilbert-base-uncased_L5_idf_version=0.3.12(hug_trans=4.53.1)')"
      ]
     },
     "execution_count": 7,
     "metadata": {},
     "output_type": "execute_result"
    }
   ],
   "source": [
    "\n",
    "bertscore = evaluate.load(\"bertscore\")\n",
    "predictions = [\"hello there\", \"general kenobi\", \"if you have the flu you need to rest\"]\n",
    "references = [\"hello there\", \"general kenobi\", \"I like pizza but I dont like mangos\"]\n",
    "P, R, F1, _  = bertscore.compute(predictions=predictions, references=references, lang=\"en\", idf=True, model_type=\"distilbert-base-uncased\").values()\n",
    "P, R, F1, _"
   ]
  },
  {
   "cell_type": "markdown",
   "id": "03bb0e39",
   "metadata": {},
   "source": [
    "#### Note:\n",
    "as we can see here we can not blindly trust bert-scored specially on small inputs but it should still be a good metrict to help us compare semantic similarity"
   ]
  },
  {
   "cell_type": "markdown",
   "id": "f44356f3",
   "metadata": {},
   "source": [
    "# test some models"
   ]
  },
  {
   "cell_type": "code",
   "execution_count": 6,
   "id": "6c29c77d",
   "metadata": {},
   "outputs": [
    {
     "data": {
      "text/html": [
       "<div>\n",
       "<style scoped>\n",
       "    .dataframe tbody tr th:only-of-type {\n",
       "        vertical-align: middle;\n",
       "    }\n",
       "\n",
       "    .dataframe tbody tr th {\n",
       "        vertical-align: top;\n",
       "    }\n",
       "\n",
       "    .dataframe thead th {\n",
       "        text-align: right;\n",
       "    }\n",
       "</style>\n",
       "<table border=\"1\" class=\"dataframe\">\n",
       "  <thead>\n",
       "    <tr style=\"text-align: right;\">\n",
       "      <th></th>\n",
       "      <th>question</th>\n",
       "      <th>answer</th>\n",
       "      <th>answer_words</th>\n",
       "      <th>valid_question</th>\n",
       "      <th>valid_answer</th>\n",
       "    </tr>\n",
       "  </thead>\n",
       "  <tbody>\n",
       "    <tr>\n",
       "      <th>719</th>\n",
       "      <td>What causes Dry Eye ?</td>\n",
       "      <td>Most people with dry eye will not have serious...</td>\n",
       "      <td>38</td>\n",
       "      <td>True</td>\n",
       "      <td>True</td>\n",
       "    </tr>\n",
       "    <tr>\n",
       "      <th>1574</th>\n",
       "      <td>What is (are) Canker Sores ?</td>\n",
       "      <td>Canker sores are small, round sores in your mo...</td>\n",
       "      <td>127</td>\n",
       "      <td>True</td>\n",
       "      <td>True</td>\n",
       "    </tr>\n",
       "    <tr>\n",
       "      <th>1704</th>\n",
       "      <td>What is (are) Animal Bites ?</td>\n",
       "      <td>Wild animals usually avoid people. They might ...</td>\n",
       "      <td>144</td>\n",
       "      <td>True</td>\n",
       "      <td>True</td>\n",
       "    </tr>\n",
       "    <tr>\n",
       "      <th>1514</th>\n",
       "      <td>What is (are) Diphtheria ?</td>\n",
       "      <td>Diphtheria is a serious bacterial infection. Y...</td>\n",
       "      <td>162</td>\n",
       "      <td>True</td>\n",
       "      <td>True</td>\n",
       "    </tr>\n",
       "    <tr>\n",
       "      <th>2257</th>\n",
       "      <td>What is (are) Respiratory Syncytial Virus Infe...</td>\n",
       "      <td>Respiratory syncytial virus (RSV) causes mild,...</td>\n",
       "      <td>160</td>\n",
       "      <td>True</td>\n",
       "      <td>True</td>\n",
       "    </tr>\n",
       "  </tbody>\n",
       "</table>\n",
       "</div>"
      ],
      "text/plain": [
       "                                               question  \\\n",
       "719                               What causes Dry Eye ?   \n",
       "1574                       What is (are) Canker Sores ?   \n",
       "1704                       What is (are) Animal Bites ?   \n",
       "1514                         What is (are) Diphtheria ?   \n",
       "2257  What is (are) Respiratory Syncytial Virus Infe...   \n",
       "\n",
       "                                                 answer  answer_words  \\\n",
       "719   Most people with dry eye will not have serious...            38   \n",
       "1574  Canker sores are small, round sores in your mo...           127   \n",
       "1704  Wild animals usually avoid people. They might ...           144   \n",
       "1514  Diphtheria is a serious bacterial infection. Y...           162   \n",
       "2257  Respiratory syncytial virus (RSV) causes mild,...           160   \n",
       "\n",
       "      valid_question  valid_answer  \n",
       "719             True          True  \n",
       "1574            True          True  \n",
       "1704            True          True  \n",
       "1514            True          True  \n",
       "2257            True          True  "
      ]
     },
     "execution_count": 6,
     "metadata": {},
     "output_type": "execute_result"
    }
   ],
   "source": [
    "val_df = pd.read_parquet(\"../data/cleaned/validation_dataset.parquet\")\n",
    "val_df.head(5)"
   ]
  },
  {
   "cell_type": "code",
   "execution_count": null,
   "id": "42a502bb",
   "metadata": {},
   "outputs": [
    {
     "name": "stderr",
     "output_type": "stream",
     "text": [
      "Xet Storage is enabled for this repo, but the 'hf_xet' package is not installed. Falling back to regular HTTP download. For better performance, install the package with: `pip install huggingface_hub[hf_xet]` or `pip install hf_xet`\n",
      "WARNING:huggingface_hub.file_download:Xet Storage is enabled for this repo, but the 'hf_xet' package is not installed. Falling back to regular HTTP download. For better performance, install the package with: `pip install huggingface_hub[hf_xet]` or `pip install hf_xet`\n",
      "Xet Storage is enabled for this repo, but the 'hf_xet' package is not installed. Falling back to regular HTTP download. For better performance, install the package with: `pip install huggingface_hub[hf_xet]` or `pip install hf_xet`\n",
      "WARNING:huggingface_hub.file_download:Xet Storage is enabled for this repo, but the 'hf_xet' package is not installed. Falling back to regular HTTP download. For better performance, install the package with: `pip install huggingface_hub[hf_xet]` or `pip install hf_xet`\n",
      "Device set to use cuda:0\n"
     ]
    },
    {
     "name": "stdout",
     "output_type": "stream",
     "text": [
      "model: unsloth/Meta-Llama-3.1-8B-Instruct-bnb-4bit -> response: [{'role': 'user', 'content': 'What is the flu?'}, {'role': 'assistant', 'content': \"The flu, also known as influenza, is a highly contagious respiratory illness caused by the influenza virus. It affects the lungs, nose, throat, and other parts of the respiratory system.\\n\\nThe flu is characterized by a combination of symptoms, which can vary in severity and may include:\\n\\n1. **Fever**: High temperatures, usually above 102°F (39°C).\\n2. **Chills**: Feeling cold, even if your body temperature is normal.\\n3. **Cough**: Dry, hacking cough or a productive cough that brings up mucus.\\n4. **Sore throat**: Pain or discomfort in the throat.\\n5. **Runny or stuffy nose**: Nasal congestion or discharge.\\n6. **Headache**: Pain or discomfort in the head.\\n7. **Fatigue**: Feeling extremely tired or exhausted.\\n8. **Muscle or body aches**: Pain or discomfort in the muscles, back, or other parts of the body.\\n9. **Diarrhea and vomiting**: In some cases, especially in children and older adults.\\n\\nThere are three main types of influenza viruses:\\n\\n1. **Type A**: Affects humans and some animals, and can cause severe illness.\\n2. **Type B**: Affects humans, but is typically milder than Type A.\\n3. **Type C**: Affects humans, but is usually mild and rare.\\n\\nThe flu is spread through:\\n\\n1. **Direct contact**: Touching or shaking hands with someone who has the flu.\\n2. **Airborne transmission**: Inhaling droplets that contain the virus, such as when someone coughs or sneezes.\\n3. **Contaminated surfaces**: Touching surfaces that have the virus on them and then touching your face.\\n\\nTo prevent the flu, it's essential to:\\n\\n1. **Get vaccinated**: Annual flu shots are available and recommended for people of all ages.\\n2. **Practice good hygiene**: Wash your hands frequently with soap and water, and avoid touching your face.\\n3. **Avoid close contact**: Stay at least 3 feet away from people who are sick with the flu.\\n4. **Cover your mouth**: Use a tissue or your elbow to cover your mouth when coughing or sneezing.\\n\\nIf you suspect you have the flu, consult a healthcare professional for proper diagnosis and treatment.\"}]\n"
     ]
    },
    {
     "name": "stderr",
     "output_type": "stream",
     "text": [
      "Fetching 2 files:   0%|          | 0/2 [00:00<?, ?it/s]Xet Storage is enabled for this repo, but the 'hf_xet' package is not installed. Falling back to regular HTTP download. For better performance, install the package with: `pip install huggingface_hub[hf_xet]` or `pip install hf_xet`\n",
      "WARNING:huggingface_hub.file_download:Xet Storage is enabled for this repo, but the 'hf_xet' package is not installed. Falling back to regular HTTP download. For better performance, install the package with: `pip install huggingface_hub[hf_xet]` or `pip install hf_xet`\n",
      "Xet Storage is enabled for this repo, but the 'hf_xet' package is not installed. Falling back to regular HTTP download. For better performance, install the package with: `pip install huggingface_hub[hf_xet]` or `pip install hf_xet`\n",
      "WARNING:huggingface_hub.file_download:Xet Storage is enabled for this repo, but the 'hf_xet' package is not installed. Falling back to regular HTTP download. For better performance, install the package with: `pip install huggingface_hub[hf_xet]` or `pip install hf_xet`\n",
      "Fetching 2 files: 100%|██████████| 2/2 [16:09<00:00, 484.77s/it]\n",
      "Loading checkpoint shards: 100%|██████████| 2/2 [00:00<00:00,  4.93it/s]\n",
      "Xet Storage is enabled for this repo, but the 'hf_xet' package is not installed. Falling back to regular HTTP download. For better performance, install the package with: `pip install huggingface_hub[hf_xet]` or `pip install hf_xet`\n",
      "WARNING:huggingface_hub.file_download:Xet Storage is enabled for this repo, but the 'hf_xet' package is not installed. Falling back to regular HTTP download. For better performance, install the package with: `pip install huggingface_hub[hf_xet]` or `pip install hf_xet`\n",
      "Device set to use cuda:0\n"
     ]
    },
    {
     "name": "stdout",
     "output_type": "stream",
     "text": [
      "model: unsloth/Phi-3.5-mini-instruct -> response: [{'role': 'user', 'content': 'What is the flu?'}, {'role': 'assistant', 'content': ' To feuding and \"explainable means is the cure for a \" being, not a single word in linguism tritium-sladkasy in the ccur offlu nctua.\\n\\n\\nRound Leaders and poise \\'by\\'exp among the top 30 and in fluvent withstandx, c \\n taquiza un language\\'sireleation\\'srance\\n\\nly. \"-aditor\\n {like-for} endowa-seems-ad*\\n   In ta_{to} other can, ta e}\\n\\n'}]\n"
     ]
    }
   ],
   "source": [
    "candidate_models = [#(\"text2text-generation\", \"google/flan-t5-base\"),\n",
    "                    (\"text-generation\",\"unsloth/Meta-Llama-3.1-8B-Instruct-bnb-4bit\"),\n",
    "                    (\"text-generation\", \"unsloth/Phi-3.5-mini-instruct\")]\n",
    "\n",
    "for task, model_id in candidate_models:\n",
    "    qa_model = pipeline(task, model=model_id)\n",
    "    if task == \"text-generation\":\n",
    "        input = [{\"role\": \"user\", \"content\": \"What is the flu?\"}]\n",
    "    else:\n",
    "        input = \"What is the flu?\"\n",
    "    response = qa_model(input)[0][\"generated_text\"]\n",
    "    print(f\"model: {model_id} -> response: {response}\")"
   ]
  },
  {
   "cell_type": "code",
   "execution_count": null,
   "id": "8569c59a",
   "metadata": {},
   "outputs": [],
   "source": [
    "import os\n",
    "\n",
    "def evaluate_qa_models(\n",
    "    df: pd.DataFrame,\n",
    "    qa_model: Callable[[str], str],\n",
    "    experiment_name: str,\n",
    "    model_name: str,\n",
    "    mlflow_uri: str = None,\n",
    "):\n",
    "    \"\"\"\n",
    "    Runs QA model over df and logs EM & F1 metrics to MLflow.\n",
    "    \"\"\"\n",
    "    if mlflow_uri:\n",
    "        mlflow.set_tracking_uri(mlflow_uri)\n",
    "    mlflow.set_experiment(experiment_name)\n",
    "\n",
    "    with mlflow.start_run(run_name=model_name):\n",
    "        mlflow.log_param(\"model_name\", model_name)\n",
    "        mlflow.log_param(\"num_examples\", len(df))\n",
    "\n",
    "        preds = []\n",
    "        truths = []\n",
    "        for _, row in df.iterrows():\n",
    "            q = row[\"question\"]\n",
    "            input = [{\"role\": \"user\", \"content\": q}]\n",
    "            truth = row[\"answer\"]\n",
    "            pred = qa_model(input)\n",
    "            preds.append(pred[0]['generated_text'][-1]['content'])\n",
    "            truths.append(truth)\n",
    "\n",
    "        metrics = compute_evaluations(preds, truths)\n",
    "        mlflow.log_metrics(metrics)\n",
    "\n",
    "        # log predictions and truth as artifact for inspection\n",
    "        out_df = df.copy()\n",
    "        out_df[\"predicted\"] = preds\n",
    "\n",
    "\n",
    "        os.makedirs(\"mlflow_artifacts\", exist_ok=True)\n",
    "        csv_path = f\"mlflow_artifacts/{model_name}_predictions.csv\"\n",
    "        out_df.to_csv(csv_path, index=False)\n",
    "        mlflow.log_artifact(str(csv_path), artifact_path=\"predictions\")\n"
   ]
  },
  {
   "cell_type": "code",
   "execution_count": null,
   "id": "ed49dddf",
   "metadata": {},
   "outputs": [],
   "source": [
    "candidate_models = [\"unsloth/Meta-Llama-3.1-8B-Instruct-bnb-4bit\",\n",
    "                    \"unsloth/Phi-3.5-mini-instruct\"]\n",
    "\n",
    "for model_id in candidate_models:\n",
    "    qa_model = pipeline(\"text-generation\", model=model_id)\n",
    "    model_name = model_id.replace(\"/\", \"_\").replace(\".\", \"_\")\n",
    "    evaluate_qa_models(\n",
    "        df = val_df.head(10),\n",
    "        qa_model=qa_model,\n",
    "        experiment_name=\"initial comparision\",\n",
    "        model_name=model_name\n",
    "        )"
   ]
  }
 ],
 "metadata": {
  "kernelspec": {
   "display_name": "med_bot",
   "language": "python",
   "name": "rag-chatbot"
  },
  "language_info": {
   "codemirror_mode": {
    "name": "ipython",
    "version": 3
   },
   "file_extension": ".py",
   "mimetype": "text/x-python",
   "name": "python",
   "nbconvert_exporter": "python",
   "pygments_lexer": "ipython3",
   "version": "3.12.11"
  }
 },
 "nbformat": 4,
 "nbformat_minor": 5
}
