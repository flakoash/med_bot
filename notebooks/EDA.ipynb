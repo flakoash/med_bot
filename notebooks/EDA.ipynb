{
 "cells": [
  {
   "cell_type": "markdown",
   "id": "0b74bc2f",
   "metadata": {},
   "source": [
    "# Intern Screening Dataset EDA\n",
    "In this notebook we will analize the data provided in `intern_screening_dataset.csv` to understand and identify possible patterns to be used later during develpment/deployment"
   ]
  },
  {
   "cell_type": "code",
   "execution_count": 71,
   "id": "cda7373e",
   "metadata": {},
   "outputs": [],
   "source": [
    "import pandas as pd\n",
    "import spacy\n",
    "\n",
    "nlp = spacy.load(\"en_core_web_sm\")"
   ]
  },
  {
   "cell_type": "code",
   "execution_count": null,
   "id": "d524af39",
   "metadata": {},
   "outputs": [
    {
     "data": {
      "text/html": [
       "<div>\n",
       "<style scoped>\n",
       "    .dataframe tbody tr th:only-of-type {\n",
       "        vertical-align: middle;\n",
       "    }\n",
       "\n",
       "    .dataframe tbody tr th {\n",
       "        vertical-align: top;\n",
       "    }\n",
       "\n",
       "    .dataframe thead th {\n",
       "        text-align: right;\n",
       "    }\n",
       "</style>\n",
       "<table border=\"1\" class=\"dataframe\">\n",
       "  <thead>\n",
       "    <tr style=\"text-align: right;\">\n",
       "      <th></th>\n",
       "      <th>question</th>\n",
       "      <th>answer</th>\n",
       "    </tr>\n",
       "  </thead>\n",
       "  <tbody>\n",
       "    <tr>\n",
       "      <th>0</th>\n",
       "      <td>What is (are) Glaucoma ?</td>\n",
       "      <td>Glaucoma is a group of diseases that can damag...</td>\n",
       "    </tr>\n",
       "    <tr>\n",
       "      <th>1</th>\n",
       "      <td>What is (are) Glaucoma ?</td>\n",
       "      <td>The optic nerve is a bundle of more than 1 mil...</td>\n",
       "    </tr>\n",
       "    <tr>\n",
       "      <th>2</th>\n",
       "      <td>What is (are) Glaucoma ?</td>\n",
       "      <td>Open-angle glaucoma is the most common form of...</td>\n",
       "    </tr>\n",
       "    <tr>\n",
       "      <th>3</th>\n",
       "      <td>Who is at risk for Glaucoma? ?</td>\n",
       "      <td>Anyone can develop glaucoma. Some people are a...</td>\n",
       "    </tr>\n",
       "    <tr>\n",
       "      <th>4</th>\n",
       "      <td>How to prevent Glaucoma ?</td>\n",
       "      <td>At this time, we do not know how to prevent gl...</td>\n",
       "    </tr>\n",
       "  </tbody>\n",
       "</table>\n",
       "</div>"
      ],
      "text/plain": [
       "                         question  \\\n",
       "0        What is (are) Glaucoma ?   \n",
       "1        What is (are) Glaucoma ?   \n",
       "2        What is (are) Glaucoma ?   \n",
       "3  Who is at risk for Glaucoma? ?   \n",
       "4       How to prevent Glaucoma ?   \n",
       "\n",
       "                                              answer  \n",
       "0  Glaucoma is a group of diseases that can damag...  \n",
       "1  The optic nerve is a bundle of more than 1 mil...  \n",
       "2  Open-angle glaucoma is the most common form of...  \n",
       "3  Anyone can develop glaucoma. Some people are a...  \n",
       "4  At this time, we do not know how to prevent gl...  "
      ]
     },
     "execution_count": 3,
     "metadata": {},
     "output_type": "execute_result"
    }
   ],
   "source": [
    "# load dataset from raw file\n",
    "dataset_df = pd.read_csv(\"../data/raw/intern_screening_dataset.csv\")\n",
    "\n",
    "dataset_df.head()"
   ]
  },
  {
   "cell_type": "code",
   "execution_count": 5,
   "id": "c56b6a7e",
   "metadata": {},
   "outputs": [
    {
     "data": {
      "text/plain": [
       "(16406, 2)"
      ]
     },
     "execution_count": 5,
     "metadata": {},
     "output_type": "execute_result"
    }
   ],
   "source": [
    "dataset_df.shape"
   ]
  },
  {
   "cell_type": "code",
   "execution_count": 7,
   "id": "5554f7f9",
   "metadata": {},
   "outputs": [
    {
     "name": "stdout",
     "output_type": "stream",
     "text": [
      "<class 'pandas.core.frame.DataFrame'>\n",
      "RangeIndex: 16406 entries, 0 to 16405\n",
      "Data columns (total 2 columns):\n",
      " #   Column    Non-Null Count  Dtype \n",
      "---  ------    --------------  ----- \n",
      " 0   question  16406 non-null  object\n",
      " 1   answer    16401 non-null  object\n",
      "dtypes: object(2)\n",
      "memory usage: 256.5+ KB\n"
     ]
    }
   ],
   "source": [
    "dataset_df.info()"
   ]
  },
  {
   "cell_type": "code",
   "execution_count": null,
   "id": "2f11dbda",
   "metadata": {},
   "outputs": [
    {
     "data": {
      "text/html": [
       "<div>\n",
       "<style scoped>\n",
       "    .dataframe tbody tr th:only-of-type {\n",
       "        vertical-align: middle;\n",
       "    }\n",
       "\n",
       "    .dataframe tbody tr th {\n",
       "        vertical-align: top;\n",
       "    }\n",
       "\n",
       "    .dataframe thead th {\n",
       "        text-align: right;\n",
       "    }\n",
       "</style>\n",
       "<table border=\"1\" class=\"dataframe\">\n",
       "  <thead>\n",
       "    <tr style=\"text-align: right;\">\n",
       "      <th></th>\n",
       "      <th>question</th>\n",
       "      <th>answer</th>\n",
       "    </tr>\n",
       "  </thead>\n",
       "  <tbody>\n",
       "    <tr>\n",
       "      <th>3587</th>\n",
       "      <td>What is (are) HELLP syndrome ?</td>\n",
       "      <td>NaN</td>\n",
       "    </tr>\n",
       "    <tr>\n",
       "      <th>3836</th>\n",
       "      <td>What is (are) X-linked lymphoproliferative syn...</td>\n",
       "      <td>NaN</td>\n",
       "    </tr>\n",
       "    <tr>\n",
       "      <th>4196</th>\n",
       "      <td>What is (are) Familial HDL deficiency ?</td>\n",
       "      <td>NaN</td>\n",
       "    </tr>\n",
       "    <tr>\n",
       "      <th>4429</th>\n",
       "      <td>What is (are) Emery-Dreifuss muscular dystroph...</td>\n",
       "      <td>NaN</td>\n",
       "    </tr>\n",
       "    <tr>\n",
       "      <th>6689</th>\n",
       "      <td>What is (are) Emery-Dreifuss muscular dystroph...</td>\n",
       "      <td>NaN</td>\n",
       "    </tr>\n",
       "  </tbody>\n",
       "</table>\n",
       "</div>"
      ],
      "text/plain": [
       "                                               question answer\n",
       "3587                     What is (are) HELLP syndrome ?    NaN\n",
       "3836  What is (are) X-linked lymphoproliferative syn...    NaN\n",
       "4196            What is (are) Familial HDL deficiency ?    NaN\n",
       "4429  What is (are) Emery-Dreifuss muscular dystroph...    NaN\n",
       "6689  What is (are) Emery-Dreifuss muscular dystroph...    NaN"
      ]
     },
     "execution_count": 12,
     "metadata": {},
     "output_type": "execute_result"
    }
   ],
   "source": [
    "# we have questions with null answer (we may need to exclude this for training)\n",
    "dataset_df[dataset_df['answer'].isnull() ]"
   ]
  },
  {
   "cell_type": "code",
   "execution_count": null,
   "id": "80fe40e3",
   "metadata": {},
   "outputs": [],
   "source": [
    "#ignore empty answers\n",
    "dataset_df = dataset_df[~dataset_df['answer'].isnull()].copy()\n",
    "# compute extra features\n",
    "dataset_df['question_len'] = dataset_df['question'].str.len()\n",
    "dataset_df['question_words'] = dataset_df['question'].str.split().apply(len)\n",
    "dataset_df['answer_len'] = dataset_df['answer'].str.len()\n",
    "dataset_df['answer_words'] = dataset_df['answer'].str.split().apply(len)\n"
   ]
  },
  {
   "cell_type": "code",
   "execution_count": 20,
   "id": "18b36de1",
   "metadata": {},
   "outputs": [
    {
     "data": {
      "text/plain": [
       "array([[<Axes: title={'center': 'question_words'}>,\n",
       "        <Axes: title={'center': 'answer_words'}>]], dtype=object)"
      ]
     },
     "execution_count": 20,
     "metadata": {},
     "output_type": "execute_result"
    },
    {
     "data": {
      "image/png": "[encoded data removed]",
      "text/plain": [
       "<Figure size 640x480 with 2 Axes>"
      ]
     },
     "metadata": {},
     "output_type": "display_data"
    }
   ],
   "source": [
    "# see question/answer distributions\n",
    "dataset_df[['question_words', 'answer_words']].hist(bins=50)"
   ]
  },
  {
   "cell_type": "code",
   "execution_count": 17,
   "id": "29b410a2",
   "metadata": {},
   "outputs": [
    {
     "data": {
      "text/plain": [
       "array([[<Axes: title={'center': 'question_len'}>,\n",
       "        <Axes: title={'center': 'answer_len'}>]], dtype=object)"
      ]
     },
     "execution_count": 17,
     "metadata": {},
     "output_type": "execute_result"
    },
    {
     "data": {
      "image/png": "[encoded data removed]",
      "text/plain": [
       "<Figure size 640x480 with 2 Axes>"
      ]
     },
     "metadata": {},
     "output_type": "display_data"
    }
   ],
   "source": [
    "dataset_df[['question_len', 'answer_len']].hist(bins=30)"
   ]
  },
  {
   "cell_type": "code",
   "execution_count": 56,
   "id": "9eb192f8",
   "metadata": {},
   "outputs": [],
   "source": [
    "# identify edge cases (i.e. very short/large questions/answers)\n",
    "\n",
    "short_question = 3\n",
    "long_question = 20\n",
    "\n",
    "short_answer = 5\n",
    "long_answer = 500\n",
    "\n",
    "pd.set_option('display.max_colwidth', None)"
   ]
  },
  {
   "cell_type": "code",
   "execution_count": null,
   "id": "512b75cc",
   "metadata": {},
   "outputs": [
    {
     "data": {
      "text/plain": [
       "8060    what is botulism?\n",
       "Name: question, dtype: object"
      ]
     },
     "execution_count": 45,
     "metadata": {},
     "output_type": "execute_result"
    }
   ],
   "source": [
    "#seems like a regular question\n",
    "dataset_df[dataset_df['question_words']<=short_question]['question']\n"
   ]
  },
  {
   "cell_type": "code",
   "execution_count": 46,
   "id": "e0f4a4ec",
   "metadata": {},
   "outputs": [
    {
     "data": {
      "text/plain": [
       "15942                                                                                              What is (are) Am I at Risk for Type 2 Diabetes? Taking Steps to Lower Your Risk of Getting Diabetes ?\n",
       "15943                                                                                             How to prevent Am I at Risk for Type 2 Diabetes? Taking Steps to Lower Your Risk of Getting Diabetes ?\n",
       "15944                                                                                              What is (are) Am I at Risk for Type 2 Diabetes? Taking Steps to Lower Your Risk of Getting Diabetes ?\n",
       "15945                                                                                   What are the symptoms of Am I at Risk for Type 2 Diabetes? Taking Steps to Lower Your Risk of Getting Diabetes ?\n",
       "15946                                                                                        Who is at risk for Am I at Risk for Type 2 Diabetes? Taking Steps to Lower Your Risk of Getting Diabetes? ?\n",
       "15947                                                                                        Who is at risk for Am I at Risk for Type 2 Diabetes? Taking Steps to Lower Your Risk of Getting Diabetes? ?\n",
       "15948                                                                                        Who is at risk for Am I at Risk for Type 2 Diabetes? Taking Steps to Lower Your Risk of Getting Diabetes? ?\n",
       "15949                                                                                             What to do for Am I at Risk for Type 2 Diabetes? Taking Steps to Lower Your Risk of Getting Diabetes ?\n",
       "15960                                                                                                   What are the symptoms of I Can Lower My Risk for Type 2 Diabetes: A Guide for American Indians ?\n",
       "15961                                                                                                        Who is at risk for I Can Lower My Risk for Type 2 Diabetes: A Guide for American Indians? ?\n",
       "15962                                                                                                        Who is at risk for I Can Lower My Risk for Type 2 Diabetes: A Guide for American Indians? ?\n",
       "16100                             What are the treatments for National Hormone and Pituitary Program (NHPP): Information for People Treated with Pituitary Human Growth Hormone (Comprehensive Report) ?\n",
       "16101                             What are the treatments for National Hormone and Pituitary Program (NHPP): Information for People Treated with Pituitary Human Growth Hormone (Comprehensive Report) ?\n",
       "16102                             What are the treatments for National Hormone and Pituitary Program (NHPP): Information for People Treated with Pituitary Human Growth Hormone (Comprehensive Report) ?\n",
       "16103                             What are the treatments for National Hormone and Pituitary Program (NHPP): Information for People Treated with Pituitary Human Growth Hormone (Comprehensive Report) ?\n",
       "16104                                What are the symptoms of National Hormone and Pituitary Program (NHPP): Information for People Treated with Pituitary Human Growth Hormone (Comprehensive Report) ?\n",
       "16105                                     Who is at risk for National Hormone and Pituitary Program (NHPP): Information for People Treated with Pituitary Human Growth Hormone (Comprehensive Report)? ?\n",
       "16106                             What are the treatments for National Hormone and Pituitary Program (NHPP): Information for People Treated with Pituitary Human Growth Hormone (Comprehensive Report) ?\n",
       "16107                                             What causes National Hormone and Pituitary Program (NHPP): Information for People Treated with Pituitary Human Growth Hormone (Comprehensive Report) ?\n",
       "16108                                         How to diagnose National Hormone and Pituitary Program (NHPP): Information for People Treated with Pituitary Human Growth Hormone (Comprehensive Report) ?\n",
       "16109    what research (or clinical trials) is being done for National Hormone and Pituitary Program (NHPP): Information for People Treated with Pituitary Human Growth Hormone (Comprehensive Report) ?\n",
       "16110                             What are the treatments for National Hormone and Pituitary Program (NHPP): Information for People Treated with Pituitary Human Growth Hormone (Comprehensive Report) ?\n",
       "16111                                           What is (are) National Hormone and Pituitary Program (NHPP): Information for People Treated with Pituitary Human Growth Hormone (Comprehensive Report) ?\n",
       "Name: question, dtype: object"
      ]
     },
     "execution_count": 46,
     "metadata": {},
     "output_type": "execute_result"
    }
   ],
   "source": [
    "dataset_df[dataset_df['question_words']>=long_question]['question']"
   ]
  },
  {
   "cell_type": "code",
   "execution_count": null,
   "id": "66174c2f",
   "metadata": {},
   "outputs": [
    {
     "data": {
      "text/plain": [
       "15942               What is (are) Am I at Risk for Type 2 Diabetes? Taking Steps to Lower Your Risk of Getting Diabetes ?\n",
       "15943              How to prevent Am I at Risk for Type 2 Diabetes? Taking Steps to Lower Your Risk of Getting Diabetes ?\n",
       "15944               What is (are) Am I at Risk for Type 2 Diabetes? Taking Steps to Lower Your Risk of Getting Diabetes ?\n",
       "15945    What are the symptoms of Am I at Risk for Type 2 Diabetes? Taking Steps to Lower Your Risk of Getting Diabetes ?\n",
       "15946         Who is at risk for Am I at Risk for Type 2 Diabetes? Taking Steps to Lower Your Risk of Getting Diabetes? ?\n",
       "15947         Who is at risk for Am I at Risk for Type 2 Diabetes? Taking Steps to Lower Your Risk of Getting Diabetes? ?\n",
       "15948         Who is at risk for Am I at Risk for Type 2 Diabetes? Taking Steps to Lower Your Risk of Getting Diabetes? ?\n",
       "15949              What to do for Am I at Risk for Type 2 Diabetes? Taking Steps to Lower Your Risk of Getting Diabetes ?\n",
       "Name: question, dtype: object"
      ]
     },
     "execution_count": 54,
     "metadata": {},
     "output_type": "execute_result"
    }
   ],
   "source": [
    "# questions like this makes me think that this dataset was synthetically augmented from base questions to handle variants like what/who/etc.\n",
    "dataset_df.iloc[15937:15945]['question']"
   ]
  },
  {
   "cell_type": "code",
   "execution_count": null,
   "id": "ebe00647",
   "metadata": {},
   "outputs": [
    {
     "data": {
      "text/html": [
       "<div>\n",
       "<style scoped>\n",
       "    .dataframe tbody tr th:only-of-type {\n",
       "        vertical-align: middle;\n",
       "    }\n",
       "\n",
       "    .dataframe tbody tr th {\n",
       "        vertical-align: top;\n",
       "    }\n",
       "\n",
       "    .dataframe thead th {\n",
       "        text-align: right;\n",
       "    }\n",
       "</style>\n",
       "<table border=\"1\" class=\"dataframe\">\n",
       "  <thead>\n",
       "    <tr style=\"text-align: right;\">\n",
       "      <th></th>\n",
       "      <th>question</th>\n",
       "      <th>answer</th>\n",
       "      <th>question_len</th>\n",
       "      <th>question_words</th>\n",
       "      <th>answer_len</th>\n",
       "      <th>answer_words</th>\n",
       "    </tr>\n",
       "  </thead>\n",
       "  <tbody>\n",
       "    <tr>\n",
       "      <th>2556</th>\n",
       "      <td>What causes Bell's palsy ?</td>\n",
       "      <td>What causes Bell's palsy?</td>\n",
       "      <td>26</td>\n",
       "      <td>5</td>\n",
       "      <td>25</td>\n",
       "      <td>4</td>\n",
       "    </tr>\n",
       "    <tr>\n",
       "      <th>3080</th>\n",
       "      <td>Is 48,XXYY syndrome inherited ?</td>\n",
       "      <td>Can 48,XXYY syndrome be inherited?</td>\n",
       "      <td>31</td>\n",
       "      <td>5</td>\n",
       "      <td>34</td>\n",
       "      <td>5</td>\n",
       "    </tr>\n",
       "    <tr>\n",
       "      <th>3124</th>\n",
       "      <td>Is Wolff-Parkinson-White syndrome inherited ?</td>\n",
       "      <td>Is Wolff-Parkinson-White syndrome inherited?</td>\n",
       "      <td>45</td>\n",
       "      <td>5</td>\n",
       "      <td>44</td>\n",
       "      <td>4</td>\n",
       "    </tr>\n",
       "    <tr>\n",
       "      <th>3135</th>\n",
       "      <td>Is Williams syndrome inherited ?</td>\n",
       "      <td>Is Williams syndrome inherited?</td>\n",
       "      <td>32</td>\n",
       "      <td>5</td>\n",
       "      <td>31</td>\n",
       "      <td>4</td>\n",
       "    </tr>\n",
       "    <tr>\n",
       "      <th>5782</th>\n",
       "      <td>Is Septo-optic dysplasia inherited ?</td>\n",
       "      <td>Is septo-optic dysplasia inherited?</td>\n",
       "      <td>36</td>\n",
       "      <td>5</td>\n",
       "      <td>35</td>\n",
       "      <td>4</td>\n",
       "    </tr>\n",
       "    <tr>\n",
       "      <th>5860</th>\n",
       "      <td>Is Pelizaeus-Merzbacher disease inherited ?</td>\n",
       "      <td>How is Pelizaeus-Merzbacher disease inherited?</td>\n",
       "      <td>43</td>\n",
       "      <td>5</td>\n",
       "      <td>46</td>\n",
       "      <td>5</td>\n",
       "    </tr>\n",
       "    <tr>\n",
       "      <th>7977</th>\n",
       "      <td>How to prevent Acanthamoeba - Granulomatous Amebic Encephalitis (GAE); Keratitis ?</td>\n",
       "      <td>Topics</td>\n",
       "      <td>82</td>\n",
       "      <td>11</td>\n",
       "      <td>6</td>\n",
       "      <td>1</td>\n",
       "    </tr>\n",
       "    <tr>\n",
       "      <th>8001</th>\n",
       "      <td>What is (are) Parasites - African Trypanosomiasis (also known as Sleeping Sickness) ?</td>\n",
       "      <td>Frequently Asked Queestions (FAQs)</td>\n",
       "      <td>85</td>\n",
       "      <td>13</td>\n",
       "      <td>34</td>\n",
       "      <td>4</td>\n",
       "    </tr>\n",
       "    <tr>\n",
       "      <th>8041</th>\n",
       "      <td>What is (are) Parasites - Paragonimiasis (also known as Paragonimus Infection) ?</td>\n",
       "      <td>Frequently Asked Queestions (FAQs)</td>\n",
       "      <td>80</td>\n",
       "      <td>12</td>\n",
       "      <td>34</td>\n",
       "      <td>4</td>\n",
       "    </tr>\n",
       "  </tbody>\n",
       "</table>\n",
       "</div>"
      ],
      "text/plain": [
       "                                                                                   question  \\\n",
       "2556                                                             What causes Bell's palsy ?   \n",
       "3080                                                        Is 48,XXYY syndrome inherited ?   \n",
       "3124                                          Is Wolff-Parkinson-White syndrome inherited ?   \n",
       "3135                                                       Is Williams syndrome inherited ?   \n",
       "5782                                                   Is Septo-optic dysplasia inherited ?   \n",
       "5860                                            Is Pelizaeus-Merzbacher disease inherited ?   \n",
       "7977     How to prevent Acanthamoeba - Granulomatous Amebic Encephalitis (GAE); Keratitis ?   \n",
       "8001  What is (are) Parasites - African Trypanosomiasis (also known as Sleeping Sickness) ?   \n",
       "8041       What is (are) Parasites - Paragonimiasis (also known as Paragonimus Infection) ?   \n",
       "\n",
       "                                              answer  question_len  \\\n",
       "2556                       What causes Bell's palsy?            26   \n",
       "3080              Can 48,XXYY syndrome be inherited?            31   \n",
       "3124    Is Wolff-Parkinson-White syndrome inherited?            45   \n",
       "3135                 Is Williams syndrome inherited?            32   \n",
       "5782             Is septo-optic dysplasia inherited?            36   \n",
       "5860  How is Pelizaeus-Merzbacher disease inherited?            43   \n",
       "7977                                          Topics            82   \n",
       "8001              Frequently Asked Queestions (FAQs)            85   \n",
       "8041              Frequently Asked Queestions (FAQs)            80   \n",
       "\n",
       "      question_words  answer_len  answer_words  \n",
       "2556               5          25             4  \n",
       "3080               5          34             5  \n",
       "3124               5          44             4  \n",
       "3135               5          31             4  \n",
       "5782               5          35             4  \n",
       "5860               5          46             5  \n",
       "7977              11           6             1  \n",
       "8001              13          34             4  \n",
       "8041              12          34             4  "
      ]
     },
     "execution_count": 58,
     "metadata": {},
     "output_type": "execute_result"
    }
   ],
   "source": [
    "# there are some answers that are repeating the questions, we need to clean this for training\n",
    "dataset_df[dataset_df['answer_words']<=short_answer]"
   ]
  },
  {
   "cell_type": "markdown",
   "id": "94b1438a",
   "metadata": {},
   "source": [
    "# Verify answers that seems to be repeating questions"
   ]
  },
  {
   "cell_type": "code",
   "execution_count": null,
   "id": "1e18336b",
   "metadata": {},
   "outputs": [
    {
     "data": {
      "text/plain": [
       "answer\n",
       "False    12161\n",
       "True      4240\n",
       "Name: count, dtype: int64"
      ]
     },
     "execution_count": 63,
     "metadata": {},
     "output_type": "execute_result"
    }
   ],
   "source": [
    "# identify ? in answers\n",
    "dataset_df['answer'].str.contains(r'\\?').value_counts()"
   ]
  },
  {
   "cell_type": "code",
   "execution_count": 66,
   "id": "2b63f5e6",
   "metadata": {},
   "outputs": [
    {
     "data": {
      "text/html": [
       "<div>\n",
       "<style scoped>\n",
       "    .dataframe tbody tr th:only-of-type {\n",
       "        vertical-align: middle;\n",
       "    }\n",
       "\n",
       "    .dataframe tbody tr th {\n",
       "        vertical-align: top;\n",
       "    }\n",
       "\n",
       "    .dataframe thead th {\n",
       "        text-align: right;\n",
       "    }\n",
       "</style>\n",
       "<table border=\"1\" class=\"dataframe\">\n",
       "  <thead>\n",
       "    <tr style=\"text-align: right;\">\n",
       "      <th></th>\n",
       "      <th>question</th>\n",
       "      <th>answer</th>\n",
       "      <th>question_len</th>\n",
       "      <th>question_words</th>\n",
       "      <th>answer_len</th>\n",
       "      <th>answer_words</th>\n",
       "    </tr>\n",
       "  </thead>\n",
       "  <tbody>\n",
       "    <tr>\n",
       "      <th>10</th>\n",
       "      <td>What is (are) High Blood Pressure ?</td>\n",
       "      <td>High blood pressure is a common disease in which blood flows through blood vessels (arteries) at higher than normal pressures. What Is Blood Pressure? Blood pressure is the force of blood pushing against the walls of the blood vessels as the heart pumps blood. If your blood pressure rises and stays high over time, its called high blood pressure. High blood pressure is dangerous because it makes the heart work too hard, and the high force of the blood flow can harm arteries and organs such as the heart, kidneys, brain, and eyes. Types of High Blood Pressure There are two main types of high blood pressure: primary and secondary high blood pressure. - Primary, or essential, high blood pressure is the most common type of high blood pressure. This type of high blood pressure tends to develop over years as a person ages.   - Secondary high blood pressure is caused by another medical condition or use of certain medicines. This type usually resolves after the cause is treated or removed. Primary, or essential, high blood pressure is the most common type of high blood pressure. This type of high blood pressure tends to develop over years as a person ages. Secondary high blood pressure is caused by another medical condition or use of certain medicines. This type usually resolves after the cause is treated or removed. Measuring Blood Pressure Blood pressure is always given as two numbers, the systolic and diastolic pressures. Both are important. - Systolic Pressure  is the pressure of blood against the artery walls when the heart beats.  -  Diastolic Pressure is the pressure of blood against the artery walls when the heart is at rest between beats. Systolic Pressure  is the pressure of blood against the artery walls when the heart beats.  Diastolic Pressure is the pressure of blood against the artery walls when the heart is at rest between beats. Usually these numbers are written one above or before the other -- for example, 120/80 mmHg. The top, or first, number is the systolic and the bottom, or second number, is the diastolic. If your blood pressure is 120/80, you say that it is \"120 over 80.\" Normal Blood Pressure Normal blood pressure for adults is defined as a systolic pressure below 120 mmHg and a diastolic pressure below 80 mmHg. It is normal for blood pressures to change when you sleep, wake up, or are excited or nervous. When you are active, it is normal for your blood pressure to increase. However, once the activity stops, your blood pressure returns to your normal baseline range. Blood pressure normally rises with age and body size. Newborn babies often have very low blood pressure numbers that are considered normal for babies, while older teens have numbers similar to adults. Abnormal Blood Pressure Abnormal blood pressure is higher than 120/80 mmHg. If either your systolic or diastolic blood pressure is higher than normal (120/80) but not high enough to be considered high blood pressure (140/90), you have pre-hypertension. Pre-hypertension is a top number between 120 and 139 or a bottom number between 80 and 89 mmHg. For example, blood pressure readings of 138/82, 128/70, or 115/86 are all in the \"pre-hypertension\" range. (Click the table on the right to see the stages of high blood pressure in adults.) A systolic blood pressure of 140 mmHg or higher, or a diastolic blood pressure of 90 mmHg or higher, is considered high blood pressure, or hypertension. Hypertension is the medical term for high blood pressure. If you have diabetes or chronic kidney disease, your recommended blood pressure levels are a systolic blood pressure of 130 mmHg or lower, and a diastolic blood pressure of 80 mmHg or lower. Usually Has No Symptoms High blood pressure is often called \"the silent killer\" because it usually has no symptoms. Occasionally, headaches may occur. Some people may not find out they have high blood pressure until they have trouble with their heart, kidneys, or eyes. When high blood pressure is not diagnosed and treated, it can lead to other life-threatening conditions, including heart attack, heart failure, stroke, and kidney failure. It can also lead to vision changes or blindness. Possible Complications Over Time Over time, high blood pressure can cause - your heart to work too hard and become larger or weaker, which can lead to heart failure.   - small bulges (aneurysms) to worsen in your blood vessels. Common locations for aneurysms are the aorta, which is the main artery from the heart; the arteries in your brain, legs, and intestines; and the artery leading to your spleen.  - blood vessels in your kidneys to narrow, which can cause kidney failure.  - blood vessels in your eyes to burst or bleed, which can cause vision changes and can result in blindness.   - arteries throughout your body to \"harden\" faster, especially those in your heart, brain, kidneys, and legs. This can cause a heart attack, stroke, or kidney failure. your heart to work too hard and become larger or weaker, which can lead to heart failure. small bulges (aneurysms) to worsen in your blood vessels. Common locations for aneurysms are the aorta, which is the main artery from the heart; the arteries in your brain, legs, and intestines; and the artery leading to your spleen. blood vessels in your kidneys to narrow, which can cause kidney failure. blood vessels in your eyes to burst or bleed, which can cause vision changes and can result in blindness. arteries throughout your body to \"harden\" faster, especially those in your heart, brain, kidneys, and legs. This can cause a heart attack, stroke, or kidney failure.</td>\n",
       "      <td>35</td>\n",
       "      <td>7</td>\n",
       "      <td>5586</td>\n",
       "      <td>940</td>\n",
       "    </tr>\n",
       "    <tr>\n",
       "      <th>20</th>\n",
       "      <td>How to diagnose High Blood Pressure ?</td>\n",
       "      <td>If you are diagnosed with high blood pressure, here are questions to ask your doctor. -   Your Blood Pressure Numbers       - What is my blood pressure reading in numbers?    - What is my goal blood pressure?    - Is my blood pressure under adequate control?    - Is my systolic pressure too high (over 140)?      Your Blood Pressure Numbers     - What is my blood pressure reading in numbers?   - What is my goal blood pressure?   - Is my blood pressure under adequate control?   - Is my systolic pressure too high (over 140)?   - What is my blood pressure reading in numbers?  - What is my goal blood pressure?  - Is my blood pressure under adequate control?  - Is my systolic pressure too high (over 140)? What is my blood pressure reading in numbers? What is my goal blood pressure? Is my blood pressure under adequate control? Is my systolic pressure too high (over 140)? -   Healthy Lifestyle Habits       - What would be a healthy weight for me?    - Is there a diet to help me lose weight (if I need to) and lower my blood pressure?    - Is there a recommended healthy eating plan I should follow to help lower my blood pressure (if I dont need to lose weight)?    - Is it safe for me to start doing regular physical activity?      Healthy Lifestyle Habits     - What would be a healthy weight for me?   - Is there a diet to help me lose weight (if I need to) and lower my blood pressure?   - Is there a recommended healthy eating plan I should follow to help lower my blood pressure (if I dont need to lose weight)?   - Is it safe for me to start doing regular physical activity?   - What would be a healthy weight for me?  - Is there a diet to help me lose weight (if I need to) and lower my blood pressure?  - Is there a recommended healthy eating plan I should follow to help lower my blood pressure (if I dont need to lose weight)?  - Is it safe for me to start doing regular physical activity? What would be a healthy weight for me? Is there a diet to help me lose weight (if I need to) and lower my blood pressure? Is there a recommended healthy eating plan I should follow to help lower my blood pressure (if I dont need to lose weight)? Is it safe for me to start doing regular physical activity? -   Medications       - What is the name of my blood pressure medication?     - Is that the brand name or the generic name?    - What are the possible side effects of my medication? (Be sure the doctor knows about any allergies you have and any other medications you are taking, including over-the-counter drugs, vitamins, and dietary supplements.)    - What time of day should I take my blood pressure medicine?    - Are there any foods, beverages, or dietary supplements I should avoid when taking this medicine?    - What should I do if I forget to take my blood pressure medicine at the recommended time? Should I take it as soon as I remember or should I wait until the next dosage is due?      Medications     - What is the name of my blood pressure medication?    - Is that the brand name or the generic name?   - What are the possible side effects of my medication? (Be sure the doctor knows about any allergies you have and any other medications you are taking, including over-the-counter drugs, vitamins, and dietary supplements.)   - What time of day should I take my blood pressure medicine?   - Are there any foods, beverages, or dietary supplements I should avoid when taking this medicine?   - What should I do if I forget to take my blood pressure medicine at the recommended time? Should I take it as soon as I remember or should I wait until the next dosage is due?   - What is the name of my blood pressure medication?   - Is that the brand name or the generic name?  - What are the possible side effects of my medication? (Be sure the doctor knows about any allergies you have and any other medications you are taking, including over-the-counter drugs, vitamins, and dietary supplements.)  - What time of day should I take my blood pressure medicine?  - Are there any foods, beverages, or dietary supplements I should avoid when taking this medicine?  - What should I do if I forget to take my blood pressure medicine at the recommended time? Should I take it as soon as I remember or should I wait until the next dosage is due? What is the name of my blood pressure medication? Is that the brand name or the generic name? What are the possible side effects of my medication? (Be sure the doctor knows about any allergies you have and any other medications you are taking, including over-the-counter drugs, vitamins, and dietary supplements.) What time of day should I take my blood pressure medicine? Are there any foods, beverages, or dietary supplements I should avoid when taking this medicine? What should I do if I forget to take my blood pressure medicine at the recommended time? Should I take it as soon as I remember or should I wait until the next dosage is due?</td>\n",
       "      <td>37</td>\n",
       "      <td>7</td>\n",
       "      <td>4907</td>\n",
       "      <td>884</td>\n",
       "    </tr>\n",
       "    <tr>\n",
       "      <th>40</th>\n",
       "      <td>What causes Urinary Tract Infections ?</td>\n",
       "      <td>Most urinary tract infections, or UTIs, are caused by bacteria that enter the urethra and then the bladder. A type of bacteria that normally lives in the bowel (called E. coli) causes most UTIs. UTIs can also be caused by fungus (another type of germ). Who Gets UTIs? Although everyone has some risk for UTIs, some people are more likely to get UTIs than others. These include people who have - spinal cord injuries or other nerve damage around the bladder.  - a blockage in the urinary tract that can trap urine in the bladder. The blockage can be caused by kidney stones, an enlarged prostate, or a birth defect.  - diabetes  - problems with the bodys natural defense (or immune) system  - pelvic organ prolapse, which is when pelvic organs (such as the bladder, rectum, or uterus) shift out of their normal position into the vagina. When pelvic organs are out of place, they can push on the bladder and urethra and make it hard to fully empty the bladder. This causes urine to stay in the bladder. When urine stays in the bladder too long, it makes an infection more likely spinal cord injuries or other nerve damage around the bladder. a blockage in the urinary tract that can trap urine in the bladder. The blockage can be caused by kidney stones, an enlarged prostate, or a birth defect. diabetes problems with the bodys natural defense (or immune) system pelvic organ prolapse, which is when pelvic organs (such as the bladder, rectum, or uterus) shift out of their normal position into the vagina. When pelvic organs are out of place, they can push on the bladder and urethra and make it hard to fully empty the bladder. This causes urine to stay in the bladder. When urine stays in the bladder too long, it makes an infection more likely UTIs in Women More than half of women will have at least one UTI in their lifetime. Women are more likely than men to get UTIs because they have a shorter urethra, making it easier for bacteria to reach the bladder. Also, the bowel and urethral openings are closer together in women than in men, making it easier for E. coli (a bacteria that lives in the bowel) to travel from the bowel to the urethra. Many women suffer from frequent UTIs. Some women have 3 or more UTIs a year. However, very few women will have frequent UTIs throughout their lives. More typically, a woman will have a period of 1 or 2 years with frequent UTIs. After this period, the UTIs may stop or happen less often. Older women are more likely to get UTIs because the bladder muscles weaken and make it hard to fully empty the bladder. This causes urine to stay in the bladder. When urine stays in the bladder too long, it makes an infection more likely. UTIs in Men Men are less likely than women to have a first UTI. But once a man has a UTI, he is likely to have another. Bacteria from a UTI can spread to the prostate. Once there, the bacteria can hide deep inside prostate tissue. Prostate infections are hard to cure because antibiotics may not be able to reach the infected prostate tissue. Activities That Can Increase Risk - Having sex. Sexual activity can move bacteria from the bowel or vaginal cavity to the urethral opening. Urinating after sex lowers the risk of infection.  - Using a catheter to urinate. A catheter is a tube placed in the urethra and bladder to help people empty the bladder. The catheter can make a direct path for bacteria to reach the bladder.  - Using certain birth controls. Diaphragms can bring bacteria with them when they are placed. Spermicides (a birth control that kills sperm) may also make UTIs more likely. Having sex. Sexual activity can move bacteria from the bowel or vaginal cavity to the urethral opening. Urinating after sex lowers the risk of infection. Using a catheter to urinate. A catheter is a tube placed in the urethra and bladder to help people empty the bladder. The catheter can make a direct path for bacteria to reach the bladder. Using certain birth controls. Diaphragms can bring bacteria with them when they are placed. Spermicides (a birth control that kills sperm) may also make UTIs more likely.</td>\n",
       "      <td>38</td>\n",
       "      <td>6</td>\n",
       "      <td>4088</td>\n",
       "      <td>730</td>\n",
       "    </tr>\n",
       "  </tbody>\n",
       "</table>\n",
       "</div>"
      ],
      "text/plain": [
       "                                  question  \\\n",
       "10     What is (are) High Blood Pressure ?   \n",
       "20   How to diagnose High Blood Pressure ?   \n",
       "40  What causes Urinary Tract Infections ?   \n",
       "\n",
       "                                                                                                                                                                                                                                                                                                                                                                                                                                                                                                                                                                                                                                                                                                                                                                                                                                                                                                                                                                                                                                                                                                                                                                                                                                                                                                                                                                                                                                                                                                                                                                                                                                                                                                                                                                                                                                                                                                                                                                                                                                                                                                                                                                                                                                                                                                                                                                                                                                                                                                                                                                                                                                                                                                                                                                                                                                                                                                                                                                                                                                                                                                                                                                                                                                                                                                                                                                                                                                                                                                                                                                                                                                                                                                                                                                                                                                                                                                                                                                                                                                                                                                                                                                                                                                                                                                                                                                                                                                                                                                                                                                                                                                                                                                                                                                                                                                                                                                                                                                                                                                                                                                                                                                                                                                                                                                                                                                                                                                                                                                                                                                                                                                                                                                                                                                                                                answer  \\\n",
       "10  High blood pressure is a common disease in which blood flows through blood vessels (arteries) at higher than normal pressures. What Is Blood Pressure? Blood pressure is the force of blood pushing against the walls of the blood vessels as the heart pumps blood. If your blood pressure rises and stays high over time, its called high blood pressure. High blood pressure is dangerous because it makes the heart work too hard, and the high force of the blood flow can harm arteries and organs such as the heart, kidneys, brain, and eyes. Types of High Blood Pressure There are two main types of high blood pressure: primary and secondary high blood pressure. - Primary, or essential, high blood pressure is the most common type of high blood pressure. This type of high blood pressure tends to develop over years as a person ages.   - Secondary high blood pressure is caused by another medical condition or use of certain medicines. This type usually resolves after the cause is treated or removed. Primary, or essential, high blood pressure is the most common type of high blood pressure. This type of high blood pressure tends to develop over years as a person ages. Secondary high blood pressure is caused by another medical condition or use of certain medicines. This type usually resolves after the cause is treated or removed. Measuring Blood Pressure Blood pressure is always given as two numbers, the systolic and diastolic pressures. Both are important. - Systolic Pressure  is the pressure of blood against the artery walls when the heart beats.  -  Diastolic Pressure is the pressure of blood against the artery walls when the heart is at rest between beats. Systolic Pressure  is the pressure of blood against the artery walls when the heart beats.  Diastolic Pressure is the pressure of blood against the artery walls when the heart is at rest between beats. Usually these numbers are written one above or before the other -- for example, 120/80 mmHg. The top, or first, number is the systolic and the bottom, or second number, is the diastolic. If your blood pressure is 120/80, you say that it is \"120 over 80.\" Normal Blood Pressure Normal blood pressure for adults is defined as a systolic pressure below 120 mmHg and a diastolic pressure below 80 mmHg. It is normal for blood pressures to change when you sleep, wake up, or are excited or nervous. When you are active, it is normal for your blood pressure to increase. However, once the activity stops, your blood pressure returns to your normal baseline range. Blood pressure normally rises with age and body size. Newborn babies often have very low blood pressure numbers that are considered normal for babies, while older teens have numbers similar to adults. Abnormal Blood Pressure Abnormal blood pressure is higher than 120/80 mmHg. If either your systolic or diastolic blood pressure is higher than normal (120/80) but not high enough to be considered high blood pressure (140/90), you have pre-hypertension. Pre-hypertension is a top number between 120 and 139 or a bottom number between 80 and 89 mmHg. For example, blood pressure readings of 138/82, 128/70, or 115/86 are all in the \"pre-hypertension\" range. (Click the table on the right to see the stages of high blood pressure in adults.) A systolic blood pressure of 140 mmHg or higher, or a diastolic blood pressure of 90 mmHg or higher, is considered high blood pressure, or hypertension. Hypertension is the medical term for high blood pressure. If you have diabetes or chronic kidney disease, your recommended blood pressure levels are a systolic blood pressure of 130 mmHg or lower, and a diastolic blood pressure of 80 mmHg or lower. Usually Has No Symptoms High blood pressure is often called \"the silent killer\" because it usually has no symptoms. Occasionally, headaches may occur. Some people may not find out they have high blood pressure until they have trouble with their heart, kidneys, or eyes. When high blood pressure is not diagnosed and treated, it can lead to other life-threatening conditions, including heart attack, heart failure, stroke, and kidney failure. It can also lead to vision changes or blindness. Possible Complications Over Time Over time, high blood pressure can cause - your heart to work too hard and become larger or weaker, which can lead to heart failure.   - small bulges (aneurysms) to worsen in your blood vessels. Common locations for aneurysms are the aorta, which is the main artery from the heart; the arteries in your brain, legs, and intestines; and the artery leading to your spleen.  - blood vessels in your kidneys to narrow, which can cause kidney failure.  - blood vessels in your eyes to burst or bleed, which can cause vision changes and can result in blindness.   - arteries throughout your body to \"harden\" faster, especially those in your heart, brain, kidneys, and legs. This can cause a heart attack, stroke, or kidney failure. your heart to work too hard and become larger or weaker, which can lead to heart failure. small bulges (aneurysms) to worsen in your blood vessels. Common locations for aneurysms are the aorta, which is the main artery from the heart; the arteries in your brain, legs, and intestines; and the artery leading to your spleen. blood vessels in your kidneys to narrow, which can cause kidney failure. blood vessels in your eyes to burst or bleed, which can cause vision changes and can result in blindness. arteries throughout your body to \"harden\" faster, especially those in your heart, brain, kidneys, and legs. This can cause a heart attack, stroke, or kidney failure.   \n",
       "20                                                                                                                                                                                                                                                                                                                                                                                                                                                                                                                                                                                                                                                                                                         If you are diagnosed with high blood pressure, here are questions to ask your doctor. -   Your Blood Pressure Numbers       - What is my blood pressure reading in numbers?    - What is my goal blood pressure?    - Is my blood pressure under adequate control?    - Is my systolic pressure too high (over 140)?      Your Blood Pressure Numbers     - What is my blood pressure reading in numbers?   - What is my goal blood pressure?   - Is my blood pressure under adequate control?   - Is my systolic pressure too high (over 140)?   - What is my blood pressure reading in numbers?  - What is my goal blood pressure?  - Is my blood pressure under adequate control?  - Is my systolic pressure too high (over 140)? What is my blood pressure reading in numbers? What is my goal blood pressure? Is my blood pressure under adequate control? Is my systolic pressure too high (over 140)? -   Healthy Lifestyle Habits       - What would be a healthy weight for me?    - Is there a diet to help me lose weight (if I need to) and lower my blood pressure?    - Is there a recommended healthy eating plan I should follow to help lower my blood pressure (if I dont need to lose weight)?    - Is it safe for me to start doing regular physical activity?      Healthy Lifestyle Habits     - What would be a healthy weight for me?   - Is there a diet to help me lose weight (if I need to) and lower my blood pressure?   - Is there a recommended healthy eating plan I should follow to help lower my blood pressure (if I dont need to lose weight)?   - Is it safe for me to start doing regular physical activity?   - What would be a healthy weight for me?  - Is there a diet to help me lose weight (if I need to) and lower my blood pressure?  - Is there a recommended healthy eating plan I should follow to help lower my blood pressure (if I dont need to lose weight)?  - Is it safe for me to start doing regular physical activity? What would be a healthy weight for me? Is there a diet to help me lose weight (if I need to) and lower my blood pressure? Is there a recommended healthy eating plan I should follow to help lower my blood pressure (if I dont need to lose weight)? Is it safe for me to start doing regular physical activity? -   Medications       - What is the name of my blood pressure medication?     - Is that the brand name or the generic name?    - What are the possible side effects of my medication? (Be sure the doctor knows about any allergies you have and any other medications you are taking, including over-the-counter drugs, vitamins, and dietary supplements.)    - What time of day should I take my blood pressure medicine?    - Are there any foods, beverages, or dietary supplements I should avoid when taking this medicine?    - What should I do if I forget to take my blood pressure medicine at the recommended time? Should I take it as soon as I remember or should I wait until the next dosage is due?      Medications     - What is the name of my blood pressure medication?    - Is that the brand name or the generic name?   - What are the possible side effects of my medication? (Be sure the doctor knows about any allergies you have and any other medications you are taking, including over-the-counter drugs, vitamins, and dietary supplements.)   - What time of day should I take my blood pressure medicine?   - Are there any foods, beverages, or dietary supplements I should avoid when taking this medicine?   - What should I do if I forget to take my blood pressure medicine at the recommended time? Should I take it as soon as I remember or should I wait until the next dosage is due?   - What is the name of my blood pressure medication?   - Is that the brand name or the generic name?  - What are the possible side effects of my medication? (Be sure the doctor knows about any allergies you have and any other medications you are taking, including over-the-counter drugs, vitamins, and dietary supplements.)  - What time of day should I take my blood pressure medicine?  - Are there any foods, beverages, or dietary supplements I should avoid when taking this medicine?  - What should I do if I forget to take my blood pressure medicine at the recommended time? Should I take it as soon as I remember or should I wait until the next dosage is due? What is the name of my blood pressure medication? Is that the brand name or the generic name? What are the possible side effects of my medication? (Be sure the doctor knows about any allergies you have and any other medications you are taking, including over-the-counter drugs, vitamins, and dietary supplements.) What time of day should I take my blood pressure medicine? Are there any foods, beverages, or dietary supplements I should avoid when taking this medicine? What should I do if I forget to take my blood pressure medicine at the recommended time? Should I take it as soon as I remember or should I wait until the next dosage is due?   \n",
       "40                                                                                                                                                                                                                                                                                                                                                                                                                                                                                                                                                                                                                                                                                                                                                                                                                                                                                                                                                                                                                                                                                                                                                                                                                                                                                                                                                                                                                                                                                                                                                            Most urinary tract infections, or UTIs, are caused by bacteria that enter the urethra and then the bladder. A type of bacteria that normally lives in the bowel (called E. coli) causes most UTIs. UTIs can also be caused by fungus (another type of germ). Who Gets UTIs? Although everyone has some risk for UTIs, some people are more likely to get UTIs than others. These include people who have - spinal cord injuries or other nerve damage around the bladder.  - a blockage in the urinary tract that can trap urine in the bladder. The blockage can be caused by kidney stones, an enlarged prostate, or a birth defect.  - diabetes  - problems with the bodys natural defense (or immune) system  - pelvic organ prolapse, which is when pelvic organs (such as the bladder, rectum, or uterus) shift out of their normal position into the vagina. When pelvic organs are out of place, they can push on the bladder and urethra and make it hard to fully empty the bladder. This causes urine to stay in the bladder. When urine stays in the bladder too long, it makes an infection more likely spinal cord injuries or other nerve damage around the bladder. a blockage in the urinary tract that can trap urine in the bladder. The blockage can be caused by kidney stones, an enlarged prostate, or a birth defect. diabetes problems with the bodys natural defense (or immune) system pelvic organ prolapse, which is when pelvic organs (such as the bladder, rectum, or uterus) shift out of their normal position into the vagina. When pelvic organs are out of place, they can push on the bladder and urethra and make it hard to fully empty the bladder. This causes urine to stay in the bladder. When urine stays in the bladder too long, it makes an infection more likely UTIs in Women More than half of women will have at least one UTI in their lifetime. Women are more likely than men to get UTIs because they have a shorter urethra, making it easier for bacteria to reach the bladder. Also, the bowel and urethral openings are closer together in women than in men, making it easier for E. coli (a bacteria that lives in the bowel) to travel from the bowel to the urethra. Many women suffer from frequent UTIs. Some women have 3 or more UTIs a year. However, very few women will have frequent UTIs throughout their lives. More typically, a woman will have a period of 1 or 2 years with frequent UTIs. After this period, the UTIs may stop or happen less often. Older women are more likely to get UTIs because the bladder muscles weaken and make it hard to fully empty the bladder. This causes urine to stay in the bladder. When urine stays in the bladder too long, it makes an infection more likely. UTIs in Men Men are less likely than women to have a first UTI. But once a man has a UTI, he is likely to have another. Bacteria from a UTI can spread to the prostate. Once there, the bacteria can hide deep inside prostate tissue. Prostate infections are hard to cure because antibiotics may not be able to reach the infected prostate tissue. Activities That Can Increase Risk - Having sex. Sexual activity can move bacteria from the bowel or vaginal cavity to the urethral opening. Urinating after sex lowers the risk of infection.  - Using a catheter to urinate. A catheter is a tube placed in the urethra and bladder to help people empty the bladder. The catheter can make a direct path for bacteria to reach the bladder.  - Using certain birth controls. Diaphragms can bring bacteria with them when they are placed. Spermicides (a birth control that kills sperm) may also make UTIs more likely. Having sex. Sexual activity can move bacteria from the bowel or vaginal cavity to the urethral opening. Urinating after sex lowers the risk of infection. Using a catheter to urinate. A catheter is a tube placed in the urethra and bladder to help people empty the bladder. The catheter can make a direct path for bacteria to reach the bladder. Using certain birth controls. Diaphragms can bring bacteria with them when they are placed. Spermicides (a birth control that kills sperm) may also make UTIs more likely.   \n",
       "\n",
       "    question_len  question_words  answer_len  answer_words  \n",
       "10            35               7        5586           940  \n",
       "20            37               7        4907           884  \n",
       "40            38               6        4088           730  "
      ]
     },
     "execution_count": 66,
     "metadata": {},
     "output_type": "execute_result"
    }
   ],
   "source": [
    "# this seems high but not all answers that contain ? are bad answers\n",
    "dataset_df[dataset_df['answer'].str.contains(r'\\?')].head(3)"
   ]
  },
  {
   "cell_type": "markdown",
   "id": "0d6fc1b3",
   "metadata": {},
   "source": [
    "#### Note:\n",
    "Based on the results above, some answers contain ? but necesarly are wrong, a better approach is to check if the answer ends in ?"
   ]
  },
  {
   "cell_type": "code",
   "execution_count": 67,
   "id": "d8a857a0",
   "metadata": {},
   "outputs": [
    {
     "data": {
      "text/plain": [
       "answer\n",
       "False    16369\n",
       "True        32\n",
       "Name: count, dtype: int64"
      ]
     },
     "execution_count": 67,
     "metadata": {},
     "output_type": "execute_result"
    }
   ],
   "source": [
    "dataset_df['answer'].str.strip().str.endswith('?').value_counts()"
   ]
  },
  {
   "cell_type": "code",
   "execution_count": 69,
   "id": "0b5039ec",
   "metadata": {},
   "outputs": [
    {
     "data": {
      "text/html": [
       "<div>\n",
       "<style scoped>\n",
       "    .dataframe tbody tr th:only-of-type {\n",
       "        vertical-align: middle;\n",
       "    }\n",
       "\n",
       "    .dataframe tbody tr th {\n",
       "        vertical-align: top;\n",
       "    }\n",
       "\n",
       "    .dataframe thead th {\n",
       "        text-align: right;\n",
       "    }\n",
       "</style>\n",
       "<table border=\"1\" class=\"dataframe\">\n",
       "  <thead>\n",
       "    <tr style=\"text-align: right;\">\n",
       "      <th></th>\n",
       "      <th>question</th>\n",
       "      <th>answer</th>\n",
       "      <th>question_len</th>\n",
       "      <th>question_words</th>\n",
       "      <th>answer_len</th>\n",
       "      <th>answer_words</th>\n",
       "    </tr>\n",
       "  </thead>\n",
       "  <tbody>\n",
       "    <tr>\n",
       "      <th>20</th>\n",
       "      <td>How to diagnose High Blood Pressure ?</td>\n",
       "      <td>If you are diagnosed with high blood pressure, here are questions to ask your doctor. -   Your Blood Pressure Numbers       - What is my blood pressure reading in numbers?    - What is my goal blood pressure?    - Is my blood pressure under adequate control?    - Is my systolic pressure too high (over 140)?      Your Blood Pressure Numbers     - What is my blood pressure reading in numbers?   - What is my goal blood pressure?   - Is my blood pressure under adequate control?   - Is my systolic pressure too high (over 140)?   - What is my blood pressure reading in numbers?  - What is my goal blood pressure?  - Is my blood pressure under adequate control?  - Is my systolic pressure too high (over 140)? What is my blood pressure reading in numbers? What is my goal blood pressure? Is my blood pressure under adequate control? Is my systolic pressure too high (over 140)? -   Healthy Lifestyle Habits       - What would be a healthy weight for me?    - Is there a diet to help me lose weight (if I need to) and lower my blood pressure?    - Is there a recommended healthy eating plan I should follow to help lower my blood pressure (if I dont need to lose weight)?    - Is it safe for me to start doing regular physical activity?      Healthy Lifestyle Habits     - What would be a healthy weight for me?   - Is there a diet to help me lose weight (if I need to) and lower my blood pressure?   - Is there a recommended healthy eating plan I should follow to help lower my blood pressure (if I dont need to lose weight)?   - Is it safe for me to start doing regular physical activity?   - What would be a healthy weight for me?  - Is there a diet to help me lose weight (if I need to) and lower my blood pressure?  - Is there a recommended healthy eating plan I should follow to help lower my blood pressure (if I dont need to lose weight)?  - Is it safe for me to start doing regular physical activity? What would be a healthy weight for me? Is there a diet to help me lose weight (if I need to) and lower my blood pressure? Is there a recommended healthy eating plan I should follow to help lower my blood pressure (if I dont need to lose weight)? Is it safe for me to start doing regular physical activity? -   Medications       - What is the name of my blood pressure medication?     - Is that the brand name or the generic name?    - What are the possible side effects of my medication? (Be sure the doctor knows about any allergies you have and any other medications you are taking, including over-the-counter drugs, vitamins, and dietary supplements.)    - What time of day should I take my blood pressure medicine?    - Are there any foods, beverages, or dietary supplements I should avoid when taking this medicine?    - What should I do if I forget to take my blood pressure medicine at the recommended time? Should I take it as soon as I remember or should I wait until the next dosage is due?      Medications     - What is the name of my blood pressure medication?    - Is that the brand name or the generic name?   - What are the possible side effects of my medication? (Be sure the doctor knows about any allergies you have and any other medications you are taking, including over-the-counter drugs, vitamins, and dietary supplements.)   - What time of day should I take my blood pressure medicine?   - Are there any foods, beverages, or dietary supplements I should avoid when taking this medicine?   - What should I do if I forget to take my blood pressure medicine at the recommended time? Should I take it as soon as I remember or should I wait until the next dosage is due?   - What is the name of my blood pressure medication?   - Is that the brand name or the generic name?  - What are the possible side effects of my medication? (Be sure the doctor knows about any allergies you have and any other medications you are taking, including over-the-counter drugs, vitamins, and dietary supplements.)  - What time of day should I take my blood pressure medicine?  - Are there any foods, beverages, or dietary supplements I should avoid when taking this medicine?  - What should I do if I forget to take my blood pressure medicine at the recommended time? Should I take it as soon as I remember or should I wait until the next dosage is due? What is the name of my blood pressure medication? Is that the brand name or the generic name? What are the possible side effects of my medication? (Be sure the doctor knows about any allergies you have and any other medications you are taking, including over-the-counter drugs, vitamins, and dietary supplements.) What time of day should I take my blood pressure medicine? Are there any foods, beverages, or dietary supplements I should avoid when taking this medicine? What should I do if I forget to take my blood pressure medicine at the recommended time? Should I take it as soon as I remember or should I wait until the next dosage is due?</td>\n",
       "      <td>37</td>\n",
       "      <td>7</td>\n",
       "      <td>4907</td>\n",
       "      <td>884</td>\n",
       "    </tr>\n",
       "    <tr>\n",
       "      <th>84</th>\n",
       "      <td>What is (are) Problems with Taste ?</td>\n",
       "      <td>You can help your doctor make a diagnosis by writing down important information about your problem beforehand and giving the information to your doctor during your visit. Write down answers to the following questions. - When did I first become aware of my taste problem?   - What changes in my sense of taste did I notice?  -  Do all foods and drinks taste the same?   - Have there been any changes in my sense of smell?   - Does the change in taste affect my ability to eat normally?   - What medicines do I take? What are the names of the medicines? How much do I take? What is the health condition for which I take the medicine?   - Have I recently had a cold or the flu?  When did I first become aware of my taste problem? What changes in my sense of taste did I notice? Do all foods and drinks taste the same? Have there been any changes in my sense of smell? Does the change in taste affect my ability to eat normally? What medicines do I take? What are the names of the medicines? How much do I take? What is the health condition for which I take the medicine? Have I recently had a cold or the flu?</td>\n",
       "      <td>35</td>\n",
       "      <td>7</td>\n",
       "      <td>1106</td>\n",
       "      <td>213</td>\n",
       "    </tr>\n",
       "    <tr>\n",
       "      <th>128</th>\n",
       "      <td>What is (are) Medicare and Continuing Care ?</td>\n",
       "      <td>Here are some questions to ask when considering choosing a nursing home. You may want to make surprise visits at different times of the day to verify conditions. - Is the nursing home Medicare- or Medicaid-certified?  - Does the nursing home have the level of care needed (such as skilled or custodial care) and is a bed available?  - Does the nursing home have special services if needed in a separate unit (such as a ventilator or rehabilitation) and is a bed available?   - Are residents clean, well groomed, and appropriately dressed for the season or time of day?  - Is the nursing home free from strong, unpleasant odors?  - Does the nursing home appear to be clean and well kept?  - Does the nursing home conduct staff background checks?  - Does the nursing home staff interact warmly and respectfully with home residents?  - Does the nursing home meet cultural, religious, and language needs?  - Are the nursing home and the current administrator licensed?  Is the nursing home Medicare- or Medicaid-certified? Does the nursing home have the level of care needed (such as skilled or custodial care) and is a bed available? Does the nursing home have special services if needed in a separate unit (such as a ventilator or rehabilitation) and is a bed available? Are residents clean, well groomed, and appropriately dressed for the season or time of day? Is the nursing home free from strong, unpleasant odors? Does the nursing home appear to be clean and well kept? Does the nursing home conduct staff background checks? Does the nursing home staff interact warmly and respectfully with home residents? Does the nursing home meet cultural, religious, and language needs? Are the nursing home and the current administrator licensed?</td>\n",
       "      <td>44</td>\n",
       "      <td>8</td>\n",
       "      <td>1738</td>\n",
       "      <td>290</td>\n",
       "    </tr>\n",
       "    <tr>\n",
       "      <th>236</th>\n",
       "      <td>What is (are) Kidney Disease ?</td>\n",
       "      <td>When you visit your doctor, here are questions to ask about your kidneys. - What is my GFR?   - What is my urine albumin result?   - What is my blood pressure?   - What is my blood glucose (for people with diabetes)? What is my GFR? What is my urine albumin result? What is my blood pressure? What is my blood glucose (for people with diabetes)?</td>\n",
       "      <td>30</td>\n",
       "      <td>6</td>\n",
       "      <td>345</td>\n",
       "      <td>65</td>\n",
       "    </tr>\n",
       "    <tr>\n",
       "      <th>238</th>\n",
       "      <td>What are the treatments for Kidney Disease ?</td>\n",
       "      <td>During your next health care visit, talk to your provider about your test results and how to manage your kidney disease. Below is a list of questions you may want to ask. Add any questions you think are missing, and mark those that are most important to you. Bring your list with you.   About your tests  - Did you check my kidney health with blood and urine tests?  -  What was my GFR? What does that mean?   - Has my GFR changed since last time?   - What is my urine albumin level? What does that mean?   - Has my urine albumin changed since the last time it was checked?   - Is my kidney disease getting worse?   - Is my blood pressure where it needs to be?   - Will I need dialysis?  - When should I talk to my family about dialysis or a kidney transplant?  Did you check my kidney health with blood and urine tests? What was my GFR? What does that mean? Has my GFR changed since last time? What is my urine albumin level? What does that mean? Has my urine albumin changed since the last time it was checked? Is my kidney disease getting worse? Is my blood pressure where it needs to be? Will I need dialysis? When should I talk to my family about dialysis or a kidney transplant? (Watch the video to learn more about dialysis decisions. To enlarge the videos on this page, click the brackets in the lower right-hand corner of the video screen. To reduce the videos, press the Escape (Esc) button on your keyboard.)  About treatment and self-care - What can I do to keep my disease from getting worse?   - Do any of my medicines or doses need to be changed?   - Do I need to change what I eat? Am I eating the right amount of protein, salt (sodium), potassium, and phosphorus?   - Will you refer me to a dietitian for diet counseling?   - When will I need to see a nephrologist (kidney specialist)?   - What do I need to do to protect my veins?  What can I do to keep my disease from getting worse? Do any of my medicines or doses need to be changed? Do I need to change what I eat? Am I eating the right amount of protein, salt (sodium), potassium, and phosphorus? Will you refer me to a dietitian for diet counseling? When will I need to see a nephrologist (kidney specialist)? What do I need to do to protect my veins? (Watch the video to learn more about lifestyle and diet changes to make with kidney disease.) About complications - What other health problems may I face because of my kidney disease?   - Should I be looking for any symptoms? If so, what are they?  What other health problems may I face because of my kidney disease? Should I be looking for any symptoms? If so, what are they?  If you're told that you need renal replacement therapy (dialysis or a transplant) - How do I decide which treatment is right for me?   - How do I prepare for dialysis?   - What is an AV fistula?   - How soon do I begin preparing?  - How can my family help me?  How do I decide which treatment is right for me? How do I prepare for dialysis? What is an AV fistula? How soon do I begin preparing? How can my family help me?</td>\n",
       "      <td>44</td>\n",
       "      <td>8</td>\n",
       "      <td>3025</td>\n",
       "      <td>573</td>\n",
       "    </tr>\n",
       "  </tbody>\n",
       "</table>\n",
       "</div>"
      ],
      "text/plain": [
       "                                         question  \\\n",
       "20          How to diagnose High Blood Pressure ?   \n",
       "84            What is (are) Problems with Taste ?   \n",
       "128  What is (are) Medicare and Continuing Care ?   \n",
       "236                What is (are) Kidney Disease ?   \n",
       "238  What are the treatments for Kidney Disease ?   \n",
       "\n",
       "                                                                                                                                                                                                                                                                                                                                                                                                                                                                                                                                                                                                                                                                                                                                                                                                                                                                                                                                                                                                                                                                                                                                                                                                                                                                                                                                                                                                                                                                                                                                                                                                                                                                                                                                                                                                                                                                                                                                                                                                                                                                                                                                                                                                                                                                                                                                                                                                                                                                                                                                                                                                                                                                                                                                                                                                                                                                                                                                                                                                                                                                                                                                                                                                                                                                                                                                                                                                                                                                                                                                                                                                                                                                                                                                                                                                                                                                                                                                                                                                                                                                                                                                                                                                                                                                                                                                                                                                                                                                                                                                                                                                                                                                                                                                                                                                                                                                                                                                                                                                                                                                                                          answer  \\\n",
       "20   If you are diagnosed with high blood pressure, here are questions to ask your doctor. -   Your Blood Pressure Numbers       - What is my blood pressure reading in numbers?    - What is my goal blood pressure?    - Is my blood pressure under adequate control?    - Is my systolic pressure too high (over 140)?      Your Blood Pressure Numbers     - What is my blood pressure reading in numbers?   - What is my goal blood pressure?   - Is my blood pressure under adequate control?   - Is my systolic pressure too high (over 140)?   - What is my blood pressure reading in numbers?  - What is my goal blood pressure?  - Is my blood pressure under adequate control?  - Is my systolic pressure too high (over 140)? What is my blood pressure reading in numbers? What is my goal blood pressure? Is my blood pressure under adequate control? Is my systolic pressure too high (over 140)? -   Healthy Lifestyle Habits       - What would be a healthy weight for me?    - Is there a diet to help me lose weight (if I need to) and lower my blood pressure?    - Is there a recommended healthy eating plan I should follow to help lower my blood pressure (if I dont need to lose weight)?    - Is it safe for me to start doing regular physical activity?      Healthy Lifestyle Habits     - What would be a healthy weight for me?   - Is there a diet to help me lose weight (if I need to) and lower my blood pressure?   - Is there a recommended healthy eating plan I should follow to help lower my blood pressure (if I dont need to lose weight)?   - Is it safe for me to start doing regular physical activity?   - What would be a healthy weight for me?  - Is there a diet to help me lose weight (if I need to) and lower my blood pressure?  - Is there a recommended healthy eating plan I should follow to help lower my blood pressure (if I dont need to lose weight)?  - Is it safe for me to start doing regular physical activity? What would be a healthy weight for me? Is there a diet to help me lose weight (if I need to) and lower my blood pressure? Is there a recommended healthy eating plan I should follow to help lower my blood pressure (if I dont need to lose weight)? Is it safe for me to start doing regular physical activity? -   Medications       - What is the name of my blood pressure medication?     - Is that the brand name or the generic name?    - What are the possible side effects of my medication? (Be sure the doctor knows about any allergies you have and any other medications you are taking, including over-the-counter drugs, vitamins, and dietary supplements.)    - What time of day should I take my blood pressure medicine?    - Are there any foods, beverages, or dietary supplements I should avoid when taking this medicine?    - What should I do if I forget to take my blood pressure medicine at the recommended time? Should I take it as soon as I remember or should I wait until the next dosage is due?      Medications     - What is the name of my blood pressure medication?    - Is that the brand name or the generic name?   - What are the possible side effects of my medication? (Be sure the doctor knows about any allergies you have and any other medications you are taking, including over-the-counter drugs, vitamins, and dietary supplements.)   - What time of day should I take my blood pressure medicine?   - Are there any foods, beverages, or dietary supplements I should avoid when taking this medicine?   - What should I do if I forget to take my blood pressure medicine at the recommended time? Should I take it as soon as I remember or should I wait until the next dosage is due?   - What is the name of my blood pressure medication?   - Is that the brand name or the generic name?  - What are the possible side effects of my medication? (Be sure the doctor knows about any allergies you have and any other medications you are taking, including over-the-counter drugs, vitamins, and dietary supplements.)  - What time of day should I take my blood pressure medicine?  - Are there any foods, beverages, or dietary supplements I should avoid when taking this medicine?  - What should I do if I forget to take my blood pressure medicine at the recommended time? Should I take it as soon as I remember or should I wait until the next dosage is due? What is the name of my blood pressure medication? Is that the brand name or the generic name? What are the possible side effects of my medication? (Be sure the doctor knows about any allergies you have and any other medications you are taking, including over-the-counter drugs, vitamins, and dietary supplements.) What time of day should I take my blood pressure medicine? Are there any foods, beverages, or dietary supplements I should avoid when taking this medicine? What should I do if I forget to take my blood pressure medicine at the recommended time? Should I take it as soon as I remember or should I wait until the next dosage is due?   \n",
       "84                                                                                                                                                                                                                                                                                                                                                                                                                                                                                                                                                                                                                                                                                                                                                                                                                                                                                                                                                                                                                                                                                                                                                                                                                                                                                                                                                                                                                                                                                                                                                                                                                                                                                                                                                                                                                                                                                                                                                                                                                                                                                                                                                                                                                                                                                                                                                                                                                                                                                                                                                                                                                                                                                                                                                                                                                                                                                                                                                                                                                                                                                                                                                                                                                                                                                                                                                                                                                                                                                                                                                                                                                                                                                                                                                                                                                                                                                                                                                            You can help your doctor make a diagnosis by writing down important information about your problem beforehand and giving the information to your doctor during your visit. Write down answers to the following questions. - When did I first become aware of my taste problem?   - What changes in my sense of taste did I notice?  -  Do all foods and drinks taste the same?   - Have there been any changes in my sense of smell?   - Does the change in taste affect my ability to eat normally?   - What medicines do I take? What are the names of the medicines? How much do I take? What is the health condition for which I take the medicine?   - Have I recently had a cold or the flu?  When did I first become aware of my taste problem? What changes in my sense of taste did I notice? Do all foods and drinks taste the same? Have there been any changes in my sense of smell? Does the change in taste affect my ability to eat normally? What medicines do I take? What are the names of the medicines? How much do I take? What is the health condition for which I take the medicine? Have I recently had a cold or the flu?   \n",
       "128                                                                                                                                                                                                                                                                                                                                                                                                                                                                                                                                                                                                                                                                                                                                                                                                                                                                                                                                                                                                                                                                                                                                                                                                                                                                                                                                                                                                                                                                                                                                                                                                                                                                                                                                                                                                                                                                                                                                                                                                                                                                                                                                                                                                                                                                                                                                                                                                                                                                                                                                                                                                                                                                                                                                                                                                                                                                                                                                                                                                                                                                                                                                                                                                                                                                                                   Here are some questions to ask when considering choosing a nursing home. You may want to make surprise visits at different times of the day to verify conditions. - Is the nursing home Medicare- or Medicaid-certified?  - Does the nursing home have the level of care needed (such as skilled or custodial care) and is a bed available?  - Does the nursing home have special services if needed in a separate unit (such as a ventilator or rehabilitation) and is a bed available?   - Are residents clean, well groomed, and appropriately dressed for the season or time of day?  - Is the nursing home free from strong, unpleasant odors?  - Does the nursing home appear to be clean and well kept?  - Does the nursing home conduct staff background checks?  - Does the nursing home staff interact warmly and respectfully with home residents?  - Does the nursing home meet cultural, religious, and language needs?  - Are the nursing home and the current administrator licensed?  Is the nursing home Medicare- or Medicaid-certified? Does the nursing home have the level of care needed (such as skilled or custodial care) and is a bed available? Does the nursing home have special services if needed in a separate unit (such as a ventilator or rehabilitation) and is a bed available? Are residents clean, well groomed, and appropriately dressed for the season or time of day? Is the nursing home free from strong, unpleasant odors? Does the nursing home appear to be clean and well kept? Does the nursing home conduct staff background checks? Does the nursing home staff interact warmly and respectfully with home residents? Does the nursing home meet cultural, religious, and language needs? Are the nursing home and the current administrator licensed?   \n",
       "236                                                                                                                                                                                                                                                                                                                                                                                                                                                                                                                                                                                                                                                                                                                                                                                                                                                                                                                                                                                                                                                                                                                                                                                                                                                                                                                                                                                                                                                                                                                                                                                                                                                                                                                                                                                                                                                                                                                                                                                                                                                                                                                                                                                                                                                                                                                                                                                                                                                                                                                                                                                                                                                                                                                                                                                                                                                                                                                                                                                                                                                                                                                                                                                                                                                                                                                                                                                                                                                                                                                                                                                                                                                                                                                                                                                                                                                                                                                                                                                                                                                                                                                                                                                                                                                                                                                                                                                                                                                                                                                                                                                                                                                                                                                                                    When you visit your doctor, here are questions to ask about your kidneys. - What is my GFR?   - What is my urine albumin result?   - What is my blood pressure?   - What is my blood glucose (for people with diabetes)? What is my GFR? What is my urine albumin result? What is my blood pressure? What is my blood glucose (for people with diabetes)?   \n",
       "238                                                                                                                                                                                                                                                                                                                                                                                                                                                                                                                                                                                                                                                                                                                                                                                                                                                                                                                                                                                                                                                                                                                                                                                                                                                                                                                                                                                                                                                                                                                                                                                                                                                                                                                                                                                                                                                                                                                                                            During your next health care visit, talk to your provider about your test results and how to manage your kidney disease. Below is a list of questions you may want to ask. Add any questions you think are missing, and mark those that are most important to you. Bring your list with you.   About your tests  - Did you check my kidney health with blood and urine tests?  -  What was my GFR? What does that mean?   - Has my GFR changed since last time?   - What is my urine albumin level? What does that mean?   - Has my urine albumin changed since the last time it was checked?   - Is my kidney disease getting worse?   - Is my blood pressure where it needs to be?   - Will I need dialysis?  - When should I talk to my family about dialysis or a kidney transplant?  Did you check my kidney health with blood and urine tests? What was my GFR? What does that mean? Has my GFR changed since last time? What is my urine albumin level? What does that mean? Has my urine albumin changed since the last time it was checked? Is my kidney disease getting worse? Is my blood pressure where it needs to be? Will I need dialysis? When should I talk to my family about dialysis or a kidney transplant? (Watch the video to learn more about dialysis decisions. To enlarge the videos on this page, click the brackets in the lower right-hand corner of the video screen. To reduce the videos, press the Escape (Esc) button on your keyboard.)  About treatment and self-care - What can I do to keep my disease from getting worse?   - Do any of my medicines or doses need to be changed?   - Do I need to change what I eat? Am I eating the right amount of protein, salt (sodium), potassium, and phosphorus?   - Will you refer me to a dietitian for diet counseling?   - When will I need to see a nephrologist (kidney specialist)?   - What do I need to do to protect my veins?  What can I do to keep my disease from getting worse? Do any of my medicines or doses need to be changed? Do I need to change what I eat? Am I eating the right amount of protein, salt (sodium), potassium, and phosphorus? Will you refer me to a dietitian for diet counseling? When will I need to see a nephrologist (kidney specialist)? What do I need to do to protect my veins? (Watch the video to learn more about lifestyle and diet changes to make with kidney disease.) About complications - What other health problems may I face because of my kidney disease?   - Should I be looking for any symptoms? If so, what are they?  What other health problems may I face because of my kidney disease? Should I be looking for any symptoms? If so, what are they?  If you're told that you need renal replacement therapy (dialysis or a transplant) - How do I decide which treatment is right for me?   - How do I prepare for dialysis?   - What is an AV fistula?   - How soon do I begin preparing?  - How can my family help me?  How do I decide which treatment is right for me? How do I prepare for dialysis? What is an AV fistula? How soon do I begin preparing? How can my family help me?   \n",
       "\n",
       "     question_len  question_words  answer_len  answer_words  \n",
       "20             37               7        4907           884  \n",
       "84             35               7        1106           213  \n",
       "128            44               8        1738           290  \n",
       "236            30               6         345            65  \n",
       "238            44               8        3025           573  "
      ]
     },
     "execution_count": 69,
     "metadata": {},
     "output_type": "execute_result"
    }
   ],
   "source": [
    "dataset_df[dataset_df['answer'].str.strip().str.endswith('?')].head(5)"
   ]
  },
  {
   "cell_type": "markdown",
   "id": "f0ef9afe",
   "metadata": {},
   "source": [
    "# verify if all questions are valid\n",
    "simple logic to detect correct questions. \n",
    "\n",
    "i.e. \n",
    "\n",
    "- if istarts with Wh-word, can, could, do, have\n",
    "- or if ends with ?"
   ]
  },
  {
   "cell_type": "code",
   "execution_count": 84,
   "id": "cad51a17",
   "metadata": {},
   "outputs": [
    {
     "data": {
      "text/plain": [
       "(True, True, False, True)"
      ]
     },
     "execution_count": 84,
     "metadata": {},
     "output_type": "execute_result"
    }
   ],
   "source": [
    "def valid_question(text:str) -> bool:\n",
    "    doc = nlp(text.strip())\n",
    "    if not doc:\n",
    "        return False\n",
    "    # if first token is what why etc it may be a question\n",
    "    if doc[0].tag_ in [\"WP\", \"WRB\", \"MD\", \"VBP\"]:\n",
    "        return True\n",
    "    # if ends with ?\n",
    "    if text.strip().endswith(\"?\"):\n",
    "        return True\n",
    "    return False\n",
    "\n",
    "# simple sanity check\n",
    "(valid_question(\"What is a question\"), \n",
    " valid_question(\"What is a question?\"), \n",
    " valid_question(\"is a question\"), \n",
    " valid_question(\"is a question?\"))"
   ]
  },
  {
   "cell_type": "code",
   "execution_count": 85,
   "id": "60964509",
   "metadata": {},
   "outputs": [],
   "source": [
    "dataset_df['valid_question'] = dataset_df['question'].apply(valid_question)"
   ]
  },
  {
   "cell_type": "code",
   "execution_count": null,
   "id": "ea531771",
   "metadata": {},
   "outputs": [
    {
     "data": {
      "text/plain": [
       "valid_question\n",
       "True    16401\n",
       "Name: count, dtype: int64"
      ]
     },
     "execution_count": 86,
     "metadata": {},
     "output_type": "execute_result"
    }
   ],
   "source": [
    "# this shows that all questions are valid, but as we saw some seems to be synthetically created/augmented\n",
    "dataset_df['valid_question'].value_counts()"
   ]
  },
  {
   "cell_type": "code",
   "execution_count": 88,
   "id": "dd65b968",
   "metadata": {},
   "outputs": [
    {
     "data": {
      "text/plain": [
       "Series([], Name: question, dtype: object)"
      ]
     },
     "execution_count": 88,
     "metadata": {},
     "output_type": "execute_result"
    }
   ],
   "source": [
    "dataset_df[~dataset_df['valid_question']][\"question\"]"
   ]
  },
  {
   "cell_type": "markdown",
   "id": "140ea461",
   "metadata": {},
   "source": [
    "#### Note:\n",
    "Based on the results above all questions seems to be correctly formated (based on our simple identification function), however we know that some of these questions were created synthetically \n",
    "\n",
    "for example:\n",
    "\n",
    "- What is (are) Am I at Risk for Type 2 Diabetes? Taking Steps to Lower Your Risk of Getting Diabetes ?\n",
    "- How to prevent Am I at Risk for Type 2 Diabetes? Taking Steps to Lower Your Risk of Getting Diabetes ?\n",
    "- What is (are) Am I at Risk for Type 2 Diabetes? Taking Steps to Lower Your Risk of Getting Diabetes ?\n",
    "- What are the symptoms of Am I at Risk for Type 2 Diabetes? Taking Steps to Lower Your Risk of Getting Diabetes ?\n",
    "- Who is at risk for Am I at Risk for Type 2 Diabetes? Taking Steps to Lower Your Risk of Getting Diabetes? ?\n",
    "- Who is at risk for Am I at Risk for Type 2 Diabetes? Taking Steps to Lower Your Risk of Getting Diabetes? ?\n",
    "- Who is at risk for Am I at Risk for Type 2 Diabetes? Taking Steps to Lower Your Risk of Getting Diabetes? ?\n",
    "- What to do for Am I at Risk for Type 2 Diabetes? Taking Steps to Lower Your Risk of Getting Diabetes ?"
   ]
  },
  {
   "cell_type": "markdown",
   "id": "b2b3feb8",
   "metadata": {},
   "source": [
    "# identify duplicate questions/answers"
   ]
  },
  {
   "cell_type": "code",
   "execution_count": 89,
   "id": "ee6e0098",
   "metadata": {},
   "outputs": [
    {
     "data": {
      "text/plain": [
       "question\n",
       "What causes Causes of Diabetes ?                                           20\n",
       "What is (are) High Blood Cholesterol ?                                     19\n",
       "What is (are) Medicare and Continuing Care ?                               14\n",
       "What is (are) Stroke ?                                                     13\n",
       "What is (are) Skin Cancer ?                                                13\n",
       "What is (are) Kidney Failure: Eat Right to Feel Right on Hemodialysis ?    12\n",
       "What is (are) Colorectal Cancer ?                                          12\n",
       "What are the treatments for Breast Cancer ?                                12\n",
       "What is (are) Breast Cancer ?                                              12\n",
       "What is (are) High Blood Pressure ?                                        11\n",
       "Name: count, dtype: int64"
      ]
     },
     "execution_count": 89,
     "metadata": {},
     "output_type": "execute_result"
    }
   ],
   "source": [
    "dataset_df['question'].value_counts().head(10)"
   ]
  },
  {
   "cell_type": "code",
   "execution_count": 99,
   "id": "56cc0f36",
   "metadata": {},
   "outputs": [
    {
     "data": {
      "text/plain": [
       "answer\n",
       "This condition is inherited in an autosomal recessive pattern, which means both copies of the gene in each cell have mutations. The parents of an individual with an autosomal recessive condition each carry one copy of the mutated gene, but they typically do not show signs and symptoms of the condition.                                                                                                                                                                                                                                                                                                                                                                                                                                                                                                                                                                                                                                                                                                                                                                                                                                                                                                                                                                                                                                                                                                                                                                                                                                                                                                                                                                                                                                                                                                                                                                                                                                                                                                                                                                                                                                                                                                                                                                                                                                                                                                                                                                                                                                                                                                                                                                                                                                                                                                                                                                                                                                                                                                                                                                                                                                                                                                                                                                                                                                                                                                                                                                                                                                                                                                                                                                                                                                                                                                                                                                                                                                                                                                                                                                                                                                                                                                                                                                                                                                                                                                                                                                                                                                                                                                                                                                                                                                                                                                                                                                                                                                                                    348\n",
       "This condition is inherited in an autosomal dominant pattern, which means one copy of the altered gene in each cell is sufficient to cause the disorder.                                                                                                                                                                                                                                                                                                                                                                                                                                                                                                                                                                                                                                                                                                                                                                                                                                                                                                                                                                                                                                                                                                                                                                                                                                                                                                                                                                                                                                                                                                                                                                                                                                                                                                                                                                                                                                                                                                                                                                                                                                                                                                                                                                                                                                                                                                                                                                                                                                                                                                                                                                                                                                                                                                                                                                                                                                                                                                                                                                                                                                                                                                                                                                                                                                                                                                                                                                                                                                                                                                                                                                                                                                                                                                                                                                                                                                                                                                                                                                                                                                                                                                                                                                                                                                                                                                                                                                                                                                                                                                                                                                                                                                                                                                                                                                                                                            70\n",
       "New types of treatment are being tested in clinical trials.\\n                    Information about clinical trials is available from the NCI website.\\n                \\n                \\n                    Patients may want to think about taking part in a clinical trial.\\n                    For some patients, taking part in a clinical trial may be the best treatment choice. Clinical trials are part of the cancer research process. Clinical trials are done to find out if new cancer treatments are safe and effective or better than the standard treatment.   Many of today's standard treatments for cancer are based on earlier clinical trials. Patients who take part in a clinical trial may receive the standard treatment or be among the first to receive a new treatment.   Patients who take part in clinical trials also help improve the way cancer will be treated in the future. Even when clinical trials do not lead to effective new treatments, they often answer important questions and help move research forward.\\n                \\n                \\n                    Patients can enter clinical trials before, during, or after starting their cancer treatment.\\n                    Some clinical trials only include patients who have not yet received treatment. Other trials test treatments for patients whose cancer has not gotten better. There are also clinical trials that test new ways to stop cancer from recurring (coming back) or reduce the side effects of cancer treatment.   Clinical trials are taking place in many parts of the country. See the Treatment Options section that follows for links to current treatment clinical trials. These have been retrieved from NCI's listing of clinical trials.                                                                                                                                                                                                                                                                                                                                                                                                                                                                                                                                                                                                                                                                                                                                                                                                                                                                                                                                                                                                                                                                                                                                                                                                                                                                                                                                                                                                                                                                                                                                                                                                                                                                                                                                                                                                                                                                                                                                                                                                                                                                                                                                                                                                                                                                                                                                                                                                                                                                                                                                                                                                                                                                                                                                                                                                                                                                                                                                                                                                                                                                                                                                                                                                 22\n",
       "This condition is inherited in an X-linked recessive pattern. The gene associated with this condition is located on the X chromosome, which is one of the two sex chromosomes. In males (who have only one X chromosome), one altered copy of the gene in each cell is sufficient to cause the condition. In females (who have two X chromosomes), a mutation would have to occur in both copies of the gene to cause the disorder. Because it is unlikely that females will have two altered copies of this gene, males are affected by X-linked recessive disorders much more frequently than females. A characteristic of X-linked inheritance is that fathers cannot pass X-linked traits to their sons.                                                                                                                                                                                                                                                                                                                                                                                                                                                                                                                                                                                                                                                                                                                                                                                                                                                                                                                                                                                                                                                                                                                                                                                                                                                                                                                                                                                                                                                                                                                                                                                                                                                                                                                                                                                                                                                                                                                                                                                                                                                                                                                                                                                                                                                                                                                                                                                                                                                                                                                                                                                                                                                                                                                                                                                                                                                                                                                                                                                                                                                                                                                                                                                                                                                                                                                                                                                                                                                                                                                                                                                                                                                                                                                                                                                                                                                                                                                                                                                                                                                                                                                                                                                                                                                                        12\n",
       "Other types of diabetes have a variety of possible causes.\\n                \\nGenetic Mutations Affecting Beta Cells, Insulin, and Insulin Action\\n                \\nSome relatively uncommon forms of diabetes known as monogenic diabetes are caused by mutations, or changes, in a single gene. These mutations are usually inherited, but sometimes the gene mutation occurs spontaneously. Most of these gene mutations cause diabetes by reducing beta cells ability to produce insulin.\\n                \\nThe most common types of monogenic diabetes are neonatal diabetes mellitus (NDM) and MODY. NDM occurs in the first 6 months of life. MODY is usually found during adolescence or early adulthood but sometimes is not diagnosed until later in life. More information about NDM and MODY is provided in the NIDDK health topic, Monogenic Forms of Diabetes.\\n                \\nOther rare genetic mutations can cause diabetes by damaging the quality of insulin the body produces or by causing abnormalities in insulin receptors.\\n                \\nOther Genetic Diseases\\n                \\nDiabetes occurs in people with Down syndrome, Klinefelter syndrome, and Turner syndrome at higher rates than the general population. Scientists are investigating whether genes that may predispose people to genetic syndromes also predispose them to diabetes.\\n                \\nThe genetic disorders cystic fibrosis and hemochromatosis are linked to diabetes. Cystic fibrosis produces abnormally thick mucus, which blocks the pancreas. The risk of diabetes increases with age in people with cystic fibrosis. Hemochromatosis causes the body to store too much iron. If the disorder is not treated, iron can build up in and damage the pancreas and other organs.\\n                \\nDamage to or Removal of the Pancreas\\n                \\nPancreatitis, cancer, and trauma can all harm the pancreatic beta cells or impair insulin production, thus causing diabetes. If the damaged pancreas is removed, diabetes will occur due to the loss of the beta cells.\\n                \\nEndocrine Diseases\\n                \\nEndocrine diseases affect organs that produce hormones. Cushings syndrome and acromegaly are examples of hormonal disorders that can cause prediabetes and diabetes by inducing insulin resistance. Cushings syndrome is marked by excessive production of cortisolsometimes called the stress hormone. Acromegaly occurs when the body produces too much growth hormone. Glucagonoma, a rare tumor of the pancreas, can also cause diabetes. The tumor causes the body to produce too much glucagon. Hyperthyroidism, a disorder that occurs when the thyroid gland produces too much thyroid hormone, can also cause elevated blood glucose levels.\\n                \\nAutoimmune Disorders\\n                \\nRare disorders characterized by antibodies that disrupt insulin action can lead to diabetes. This kind of diabetes is often associated with other autoimmune disorders such as lupus erythematosus. Another rare autoimmune disorder called stiff-man syndrome is associated with antibodies that attack the beta cells, similar to type 1 diabetes.\\n                \\nMedications and Chemical Toxins\\n                \\nSome medications, such as nicotinic acid and certain types of diuretics, anti-seizure drugs, psychiatric drugs, and drugs to treat human immunodeficiency virus (HIV), can impair beta cells or disrupt insulin action. Pentamidine, a drug prescribed to treat a type of pneumonia, can increase the risk of pancreatitis, beta cell damage, and diabetes. Also, glucocorticoidssteroid hormones that are chemically similar to naturally produced cortisolmay impair insulin action. Glucocorticoids are used to treat inflammatory illnesses such as rheumatoid arthritis, asthma, lupus, and ulcerative colitis.\\n                \\nMany chemical toxins can damage or destroy beta cells in animals, but only a few have been linked to diabetes in humans. For example, dioxina contaminant of the herbicide Agent Orange, used during the Vietnam Warmay be linked to the development of type 2 diabetes. In 2000, based on a report from the Institute of Medicine, the U.S. Department of Veterans Affairs (VA) added diabetes to the list of conditions for which Vietnam veterans are eligible for disability compensation. Also, a chemical in a rat poison no longer in use has been shown to cause diabetes if ingested. Some studies suggest a high intake of nitrogen-containing chemicals such as nitrates and nitrites might increase the risk of diabetes. Arsenic has also been studied for possible links to diabetes.\\n                \\nLipodystrophy\\n                \\nLipodystrophy is a condition in which fat tissue is lost or redistributed in the body. The condition is associated with insulin resistance and type 2 diabetes.      8\n",
       "Osteopetrosis is a bone disease that makes bones abnormally dense and prone to breakage (fracture). Researchers have described several major types of osteopetrosis, which are usually distinguished by their pattern of inheritance: autosomal dominant, autosomal recessive, or X-linked. The different types of the disorder can also be distinguished by the severity of their signs and symptoms. Mutations in at least nine genes cause the various types of osteopetrosis.                                                                                                                                                                                                                                                                                                                                                                                                                                                                                                                                                                                                                                                                                                                                                                                                                                                                                                                                                                                                                                                                                                                                                                                                                                                                                                                                                                                                                                                                                                                                                                                                                                                                                                                                                                                                                                                                                                                                                                                                                                                                                                                                                                                                                                                                                                                                                                                                                                                                                                                                                                                                                                                                                                                                                                                                                                                                                                                                                                                                                                                                                                                                                                                                                                                                                                                                                                                                                                                                                                                                                                                                                                                                                                                                                                                                                                                                                                                                                                                                                                                                                                                                                                                                                                                                                                                                                                                                                                                                                                    7\n",
       "This condition is inherited in an autosomal dominant pattern, which means one copy of the altered gene in each cell is sufficient to cause the disorder.  In some cases, an affected person inherits the mutation from one affected parent. Other cases result from new mutations in the gene and occur in people with no history of the disorder in their family.                                                                                                                                                                                                                                                                                                                                                                                                                                                                                                                                                                                                                                                                                                                                                                                                                                                                                                                                                                                                                                                                                                                                                                                                                                                                                                                                                                                                                                                                                                                                                                                                                                                                                                                                                                                                                                                                                                                                                                                                                                                                                                                                                                                                                                                                                                                                                                                                                                                                                                                                                                                                                                                                                                                                                                                                                                                                                                                                                                                                                                                                                                                                                                                                                                                                                                                                                                                                                                                                                                                                                                                                                                                                                                                                                                                                                                                                                                                                                                                                                                                                                                                                                                                                                                                                                                                                                                                                                                                                                                                                                                                                                   7\n",
       "On this Page General Information What is vancomycin-resistant enterococci? What types of infections does vancomycin-resistant enterococci cause? Are certain people at risk of getting vancomycin-resistant enterococci? What is the treatment for vancomycin-resistant enterococci? How is vancomycin-resistant enterococci spread? How can patients prevent the spread of vancomycin-resistant enterococci? What should a patient do if they think they have vancomycin-resistant enterococci? Recommendations and Guidelines General Information For more images of this bacterium, search the Public Health Image Library What is vancomycin-resistant enterococci? Enteroccocci are bacteria that are normally present in the human intestines and in the female genital tract and are often found in the environment. These bacteria can sometimes cause infections. Vancomycin is an antibiotic that is used to treat some drug-resistant infections caused by enterococci. In some instances, enterococci have become resistant to this drug and thus are called vancomycin-resistant enterococci (VRE). Most VRE infections occur in hospitals. Top of page What types of infections does VRE cause? VRE can live in the human intestines and female genital tract without causing disease (often called colonization). However, sometimes it can cause infections of the urinary tract, the bloodstream, or of wounds associated with catheters or surgical procedures. Top of page Are certain people at risk of getting VRE? The following persons are at increased risk becoming infected with VRE: People who have been previously treated with the antibiotic vancomycin or other antibiotics for long periods of time. People who are hospitalized, particularly when they receive antibiotic treatment for long periods of time. People with weakened immune systems such as patients in intensive care units, or in cancer or transplant wards. People who have undergone surgical procedures such as abdominal or chest surgery. People with medical devices that stay in for some time such as urinary catheters or central intravenous (IV) catheters. People who are colonized with VRE. Top of page What is the treatment for VRE? People with colonized VRE (bacteria are present, but have no symptoms of an infection)  do not need treatment. Most VRE infections can be treated with antibiotics other than vancomycin. Laboratory testing of the VRE can determine which antibiotics will work. For people who get VRE infections in their bladder and have urinary catheters, removal of the catheter when it is no longer needed can also help get rid of the infection. Top of page How is VRE spread? VRE is often passed from person to person by the contaminated hands of caregivers. VRE can get onto a caregiver's hands after they have contact with other people with VRE or after contact with contaminated surfaces. VRE can also be spread directly to people after they touch surfaces that are contaminated with VRE. VRE is not spread through the air by coughing or sneezing. Top of page How can patients prevent the spread of VRE? If a patient or someone in their household has VRE, the following are some things they can do to prevent the spread of VRE: Keep their hands clean. Always wash their hands thoroughly after using the bathroom and before preparing food. Clean their hands after contact with persons who have VRE. Wash with soap and water (particularly when visibly soiled) or use alcohol-based hand rubs. Frequently clean areas of the home, such as bathrooms, that may become contaminated with VRE. Wear gloves if hands may come in contact with body fluids that may contain VRE, such as stool or bandages from infected wounds. Always wash their hands after removing gloves. If someone has VRE, be sure to tell healthcare providers so that they are aware of the infection. Healthcare facilities use special precautions to help prevent the spread of VRE to others. Top of page What should patients do if they think they have vancomycin-resistant enterococci (VRE)? Anyone who thinks they have VRE must talk with their healthcare provider. Top of page Recommendations and Guidelines For more information about prevention and treatment of HAIs, see the resources below: Siegel JD, Rhinehart E, Jackson M, et al. The Healthcare Infection Control Practices Advisory Committee (HICPAC). Management of Multidrug-Resistant Organisms In Healthcare Settings, 2006                                                                                                                                                                                                                                                                                                                                                                                                          6\n",
       "How might Noonan syndrome be treated? Management generally focuses on the specific signs and symptoms present in each person. Treatments for the complications of Noonan syndrome (such as cardiovascular abnormalities) are generally standard and do not differ from treatment in the general population. Developmental disabilities are addressed by early intervention programs and individualized education strategies. Treatment for serious bleeding depends upon the specific factor deficiency or platelet abnormality. Growth hormone treatment increases growth velocity. More detailed information about treatment for Noonan syndrome can be viewed on the GeneReviews Web site.                                                                                                                                                                                                                                                                                                                                                                                                                                                                                                                                                                                                                                                                                                                                                                                                                                                                                                                                                                                                                                                                                                                                                                                                                                                                                                                                                                                                                                                                                                                                                                                                                                                                                                                                                                                                                                                                                                                                                                                                                                                                                                                                                                                                                                                                                                                                                                                                                                                                                                                                                                                                                                                                                                                                                                                                                                                                                                                                                                                                                                                                                                                                                                                                                                                                                                                                                                                                                                                                                                                                                                                                                                                                                                                                                                                                                                                                                                                                                                                                                                                                                                                                                                                                                                                                                        6\n",
       "Noonan syndrome is a genetic disorder that causes abnormal development of multiple parts of the body. Features of Noonan syndrome may include a distinctive facial appearance, short stature, a broad or webbed neck, congenital heart defects, bleeding problems, skeletal malformations, and developmental delay. Noonan syndrome may be caused by mutations in any one of several genes including the PTPN11, KRAS, RAF1, SOS1, NRAS and BRAF genes. It is sometimes referred to as a specific subtype based on the responsible gene in an affected person. Noonan syndrome is typically inherited in an autosomal dominant manner but many cases are due to a new mutation and are not inherited from an affected parent.                                                                                                                                                                                                                                                                                                                                                                                                                                                                                                                                                                                                                                                                                                                                                                                                                                                                                                                                                                                                                                                                                                                                                                                                                                                                                                                                                                                                                                                                                                                                                                                                                                                                                                                                                                                                                                                                                                                                                                                                                                                                                                                                                                                                                                                                                                                                                                                                                                                                                                                                                                                                                                                                                                                                                                                                                                                                                                                                                                                                                                                                                                                                                                                                                                                                                                                                                                                                                                                                                                                                                                                                                                                                                                                                                                                                                                                                                                                                                                                                                                                                                                                                                                                                                                                        6\n",
       "Name: count, dtype: int64"
      ]
     },
     "execution_count": 99,
     "metadata": {},
     "output_type": "execute_result"
    }
   ],
   "source": [
    "dataset_df['answer'].value_counts().head(10)"
   ]
  },
  {
   "cell_type": "markdown",
   "id": "91b11461",
   "metadata": {},
   "source": [
    "#### Note:\n",
    "\n",
    "Based on the results above, we can see that the answer:\n",
    "\n",
    "`This condition is inherited in an autosomal recessive pattern, which means both copies of the gene in each cell have mutations. The parents of an individual with an autosomal recessive condition each carry one copy of the mutated gene, but they typically do not show signs and symptoms of the condition.`\n",
    "\n",
    "is used `348` times"
   ]
  },
  {
   "cell_type": "code",
   "execution_count": 105,
   "id": "3e147679",
   "metadata": {},
   "outputs": [
    {
     "data": {
      "text/html": [
       "<div>\n",
       "<style scoped>\n",
       "    .dataframe tbody tr th:only-of-type {\n",
       "        vertical-align: middle;\n",
       "    }\n",
       "\n",
       "    .dataframe tbody tr th {\n",
       "        vertical-align: top;\n",
       "    }\n",
       "\n",
       "    .dataframe thead th {\n",
       "        text-align: right;\n",
       "    }\n",
       "</style>\n",
       "<table border=\"1\" class=\"dataframe\">\n",
       "  <thead>\n",
       "    <tr style=\"text-align: right;\">\n",
       "      <th></th>\n",
       "      <th>question</th>\n",
       "      <th>answer</th>\n",
       "      <th>question_len</th>\n",
       "      <th>question_words</th>\n",
       "      <th>answer_len</th>\n",
       "      <th>answer_words</th>\n",
       "      <th>valid_question</th>\n",
       "    </tr>\n",
       "  </thead>\n",
       "  <tbody>\n",
       "    <tr>\n",
       "      <th>9799</th>\n",
       "      <td>Is Rabson-Mendenhall syndrome inherited ?</td>\n",
       "      <td>This condition is inherited in an autosomal re...</td>\n",
       "      <td>41</td>\n",
       "      <td>5</td>\n",
       "      <td>303</td>\n",
       "      <td>51</td>\n",
       "      <td>True</td>\n",
       "    </tr>\n",
       "    <tr>\n",
       "      <th>9809</th>\n",
       "      <td>Is North American Indian childhood cirrhosis i...</td>\n",
       "      <td>This condition is inherited in an autosomal re...</td>\n",
       "      <td>56</td>\n",
       "      <td>8</td>\n",
       "      <td>303</td>\n",
       "      <td>51</td>\n",
       "      <td>True</td>\n",
       "    </tr>\n",
       "    <tr>\n",
       "      <th>9834</th>\n",
       "      <td>Is infantile-onset spinocerebellar ataxia inhe...</td>\n",
       "      <td>This condition is inherited in an autosomal re...</td>\n",
       "      <td>53</td>\n",
       "      <td>6</td>\n",
       "      <td>303</td>\n",
       "      <td>51</td>\n",
       "      <td>True</td>\n",
       "    </tr>\n",
       "    <tr>\n",
       "      <th>9839</th>\n",
       "      <td>Is succinyl-CoA:3-ketoacid CoA transferase def...</td>\n",
       "      <td>This condition is inherited in an autosomal re...</td>\n",
       "      <td>65</td>\n",
       "      <td>7</td>\n",
       "      <td>303</td>\n",
       "      <td>51</td>\n",
       "      <td>True</td>\n",
       "    </tr>\n",
       "    <tr>\n",
       "      <th>9854</th>\n",
       "      <td>Is DOLK-congenital disorder of glycosylation i...</td>\n",
       "      <td>This condition is inherited in an autosomal re...</td>\n",
       "      <td>56</td>\n",
       "      <td>7</td>\n",
       "      <td>303</td>\n",
       "      <td>51</td>\n",
       "      <td>True</td>\n",
       "    </tr>\n",
       "    <tr>\n",
       "      <th>...</th>\n",
       "      <td>...</td>\n",
       "      <td>...</td>\n",
       "      <td>...</td>\n",
       "      <td>...</td>\n",
       "      <td>...</td>\n",
       "      <td>...</td>\n",
       "      <td>...</td>\n",
       "    </tr>\n",
       "    <tr>\n",
       "      <th>15134</th>\n",
       "      <td>Is leptin receptor deficiency inherited ?</td>\n",
       "      <td>This condition is inherited in an autosomal re...</td>\n",
       "      <td>41</td>\n",
       "      <td>6</td>\n",
       "      <td>303</td>\n",
       "      <td>51</td>\n",
       "      <td>True</td>\n",
       "    </tr>\n",
       "    <tr>\n",
       "      <th>15149</th>\n",
       "      <td>Is Tangier disease inherited ?</td>\n",
       "      <td>This condition is inherited in an autosomal re...</td>\n",
       "      <td>30</td>\n",
       "      <td>5</td>\n",
       "      <td>303</td>\n",
       "      <td>51</td>\n",
       "      <td>True</td>\n",
       "    </tr>\n",
       "    <tr>\n",
       "      <th>15164</th>\n",
       "      <td>Is DOORS syndrome inherited ?</td>\n",
       "      <td>This condition is inherited in an autosomal re...</td>\n",
       "      <td>29</td>\n",
       "      <td>5</td>\n",
       "      <td>303</td>\n",
       "      <td>51</td>\n",
       "      <td>True</td>\n",
       "    </tr>\n",
       "    <tr>\n",
       "      <th>15194</th>\n",
       "      <td>Is ALG6-congenital disorder of glycosylation i...</td>\n",
       "      <td>This condition is inherited in an autosomal re...</td>\n",
       "      <td>56</td>\n",
       "      <td>7</td>\n",
       "      <td>303</td>\n",
       "      <td>51</td>\n",
       "      <td>True</td>\n",
       "    </tr>\n",
       "    <tr>\n",
       "      <th>15209</th>\n",
       "      <td>Is mitochondrial trifunctional protein deficie...</td>\n",
       "      <td>This condition is inherited in an autosomal re...</td>\n",
       "      <td>61</td>\n",
       "      <td>7</td>\n",
       "      <td>303</td>\n",
       "      <td>51</td>\n",
       "      <td>True</td>\n",
       "    </tr>\n",
       "  </tbody>\n",
       "</table>\n",
       "<p>348 rows × 7 columns</p>\n",
       "</div>"
      ],
      "text/plain": [
       "                                                question  \\\n",
       "9799           Is Rabson-Mendenhall syndrome inherited ?   \n",
       "9809   Is North American Indian childhood cirrhosis i...   \n",
       "9834   Is infantile-onset spinocerebellar ataxia inhe...   \n",
       "9839   Is succinyl-CoA:3-ketoacid CoA transferase def...   \n",
       "9854   Is DOLK-congenital disorder of glycosylation i...   \n",
       "...                                                  ...   \n",
       "15134          Is leptin receptor deficiency inherited ?   \n",
       "15149                     Is Tangier disease inherited ?   \n",
       "15164                      Is DOORS syndrome inherited ?   \n",
       "15194  Is ALG6-congenital disorder of glycosylation i...   \n",
       "15209  Is mitochondrial trifunctional protein deficie...   \n",
       "\n",
       "                                                  answer  question_len  \\\n",
       "9799   This condition is inherited in an autosomal re...            41   \n",
       "9809   This condition is inherited in an autosomal re...            56   \n",
       "9834   This condition is inherited in an autosomal re...            53   \n",
       "9839   This condition is inherited in an autosomal re...            65   \n",
       "9854   This condition is inherited in an autosomal re...            56   \n",
       "...                                                  ...           ...   \n",
       "15134  This condition is inherited in an autosomal re...            41   \n",
       "15149  This condition is inherited in an autosomal re...            30   \n",
       "15164  This condition is inherited in an autosomal re...            29   \n",
       "15194  This condition is inherited in an autosomal re...            56   \n",
       "15209  This condition is inherited in an autosomal re...            61   \n",
       "\n",
       "       question_words  answer_len  answer_words  valid_question  \n",
       "9799                5         303            51            True  \n",
       "9809                8         303            51            True  \n",
       "9834                6         303            51            True  \n",
       "9839                7         303            51            True  \n",
       "9854                7         303            51            True  \n",
       "...               ...         ...           ...             ...  \n",
       "15134               6         303            51            True  \n",
       "15149               5         303            51            True  \n",
       "15164               5         303            51            True  \n",
       "15194               7         303            51            True  \n",
       "15209               7         303            51            True  \n",
       "\n",
       "[348 rows x 7 columns]"
      ]
     },
     "execution_count": 105,
     "metadata": {},
     "output_type": "execute_result"
    }
   ],
   "source": [
    "most_used_answer = dataset_df['answer'].value_counts().head(1).reset_index()[\"answer\"][0]\n",
    "dataset_df[dataset_df['answer'] == most_used_answer]"
   ]
  },
  {
   "cell_type": "markdown",
   "id": "75afe2e8",
   "metadata": {},
   "source": [
    "# Final Thoughts\n",
    "\n",
    "Based on this quick data analysis, we found the following:\n",
    "\n",
    "- we have 16406 records in total\n",
    "- we have questions w/o answers\n",
    "- some questions seems to be generated synthetically (i.e. there are some variations on what/why/how/etc.)\n",
    "- all questions seems to be correct (they start with wh-word/do/could/etc and end in ?)\n",
    "- some answers are not valid: \n",
    "    - some repeat a lot of following questions\n",
    "    - some repeat the same questions that was asked\n",
    "- there is an answer that is used for 348 questions\n",
    "- there are some questions with different answers\n",
    "\n",
    "#### Action plan:\n",
    "\n",
    "We are going to make an asumption: \"this are real life answers to questions and we want to produce answers that have a similar structure/slang\"\n",
    "based on that will use the training data to capture \"the way of answering the questions\" rather than to extract valuable information, to augment the model with relevant information we will use a RAG arch. and we will get an open dataset that contains medical information.\n",
    "\n",
    "For this reason we will filter a subset of the training data taking into account the notes above to produce a smaller/cleanner dataset to finetune a small llm\n"
   ]
  },
  {
   "cell_type": "code",
   "execution_count": null,
   "id": "86c5832e",
   "metadata": {},
   "outputs": [],
   "source": []
  }
 ],
 "metadata": {
  "kernelspec": {
   "display_name": "med_bot",
   "language": "python",
   "name": "rag-chatbot"
  },
  "language_info": {
   "codemirror_mode": {
    "name": "ipython",
    "version": 3
   },
   "file_extension": ".py",
   "mimetype": "text/x-python",
   "name": "python",
   "nbconvert_exporter": "python",
   "pygments_lexer": "ipython3",
   "version": "3.12.11"
  }
 },
 "nbformat": 4,
 "nbformat_minor": 5
}
